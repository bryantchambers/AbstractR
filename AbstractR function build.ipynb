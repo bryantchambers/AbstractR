{
 "cells": [
  {
   "cell_type": "markdown",
   "metadata": {},
   "source": [
    "# RefAssig V0.0"
   ]
  },
  {
   "cell_type": "markdown",
   "metadata": {},
   "source": [
    "this is my faster simple version of the PMI and Abstract gene count scoring system.\n",
    "Improvements: \n",
    "* rapid access\n",
    "* streamlined function calls\n",
    "* clean data output\n",
    "* xml abstract data parsing"
   ]
  },
  {
   "cell_type": "markdown",
   "metadata": {},
   "source": [
    "---\n",
    "## 1.0 Libraries and input\n",
    "\n",
    "The work flow looks like this:\n",
    "\n",
    "1. read in a list of chemicals as a csv with a column named chemicals and all chemicals examined in this study\n",
    "2. read in a query map as a csv\n",
    "    * a query map is a relationship map between all query phrases and all classifiers\n",
    "    * three columns are used:\n",
    "        * A general class/super class for a query\n",
    "        * a direction: 'pos' or 'neg' refereing to positive or negative\n",
    "        * the search phrase surrounded by quotes, e.g., ' \"dna damage\" '\n",
    "        \n",
    "The work flow will automatically construction all wanted querries between chemicals and search phrases from these list. In later steps the results can be reduced to a meaningfull level by knowing if search phrases are addative for the target or subtractive e.g., metal stresss vs chelator. Here, a high number of chelator hits and metal stress hits might indicate that although the chemical might have a significant response for metal stress it also is likely related tagentially to the overall function. Think about what queries you are supplying to ensure they are meaningful."
   ]
  },
  {
   "cell_type": "markdown",
   "metadata": {},
   "source": [
    "---\n",
    "# RAPID QUERY FUNCTION"
   ]
  },
  {
   "cell_type": "code",
   "execution_count": 33,
   "metadata": {
    "jupyter": {
     "source_hidden": true
    }
   },
   "outputs": [],
   "source": [
    "#This function reads csv with a list of chemical names and a query map and returns a list of dataframes for all combinations of queries in the data set\n",
    "#this result can be input to two functions: ```PMI_matrix``` which will give you information about the information or strength of the search phrase relative to the total \n",
    "\n",
    "query_result = function(chemical.list.path, query.map.path = NULL, limit_input_to = NULL, output.path) {\n",
    "\n",
    "  \n",
    "\n",
    "    #Libraries\n",
    "    suppressMessages(library(tidyverse))\n",
    "    suppressMessages(library(easyPubMed))\n",
    "    suppressMessages(library(kableExtra))\n",
    "    suppressMessages(library(parallel))\n",
    "\n",
    "    #testingpaths\n",
    "    chemical.list.path = \"input/chemical-list-LINCS-2021.07.23.csv\"\n",
    "    query.map.path = \"input/query.map-build.csv\"\n",
    "    #query.map.path = NULL\n",
    "    limit_input_to = NULL\n",
    "\n",
    "if(!is.null(query.map.path)) { \n",
    "    ######################\n",
    "    #SEARCH WITH QUERY MAP\n",
    "    \n",
    "    #read chemical list\n",
    "    chems = suppressMessages(read_csv(paste0(chemical.list.path)))\n",
    "    #read query map\n",
    "    q.map = suppressMessages(read_csv(paste0(query.map.path))) %>%\n",
    "        mutate(phrase.q = paste0('\"',phrase,'\"'))\n",
    "    \n",
    "    #cutchems\n",
    "    if(is.null(limit_input_to)) {chems = chems$chemicals[1:length(chems$chemicals)]} else {chems = chems$chemicals[1:limit_input_to]}\n",
    "\n",
    "    #build partial search vectors\n",
    "    chems.search = paste0('\"', chems,'\" AND ')\n",
    "    searchterms.search = q.map$phrase.q\n",
    "\n",
    "    #controlable and bindable search grid with directions\n",
    "    search.combinations = expand.grid(chems.search, searchterms.search, stringsAsFactors = FALSE) %>%\n",
    "    setNames(c('chemical', 'phrase.q')) %>% \n",
    "    left_join(q.map, by = \"phrase.q\") %>%\n",
    "    mutate(query = paste(chemical, phrase.q)) %>%\n",
    "    select(SRP, direction, query)\n",
    "\n",
    "    #acutal query list\n",
    "    search.query = search.combinations$query %>% as.list()\n",
    "    \n",
    "    } else {\n",
    "    #######################    \n",
    "    #SEARCH WITH ONLY CHEMS\n",
    "        \n",
    "    #read chemical list      \n",
    "    chems = suppressMessages(read_csv(paste0(chemical.list.path)))\n",
    "    \n",
    "    #cutchems\n",
    "    if(is.null(limit_input_to)) {chems = chems$chemicals[1:length(chems$chemicals)]} else {chems = chems$chemicals[1:limit_input_to]}\n",
    "\n",
    "    #build partial search vectors\n",
    "    chems.search = paste0('\"', chems,'\"')\n",
    "        \n",
    "    #actual query list\n",
    "    search.query = chems.search\n",
    "    }\n",
    "\n",
    "    #build output object\n",
    "    query.result = vector(length = 3, mode = \"list\")\n",
    "\n",
    "    #query\n",
    "    query.result[[1]] = mclapply(seq_along(search.query), function(x){\n",
    "        \n",
    "        Sys.sleep(time = 2)     \n",
    "        \n",
    "        get_pubmed_ids(search.query[[x]], api_key = 'b3accc43abfb376d63b0c2d2f7d8f984de09') %>%\n",
    "           {if(class(.)  == 'try-error') 'TRY-FAILED-increase sys sleep' else\n",
    "               {if(as.numeric(.$Count) > 0) fetch_pubmed_data(., retstart = 0, retmax = 100000) %>%\n",
    "                                            articles_to_list() %>%\n",
    "                                            lapply(., article_to_df, max_chars = 100000, getAuthors = FALSE) %>%\n",
    "                                            do.call(rbind, .) else 'EMPTY' }}\n",
    "        \n",
    "            }, mc.cores = 10) %>% setNames(search.query)\n",
    "  \n",
    "\n",
    "    #clean out empty hits\n",
    "    query.result[[1]] = query.result[[1]][query.result[[1]] != 'EMPTY']\n",
    "\n",
    "    #save additional mapping information if a map was used\n",
    "    if(is.null(query.map.path)) {query.result[[2]] = 'NO MAP USED'} else {query.result[[2]] = search.combinations}\n",
    "    if(is.null(query.map.path)) {query.result[[3]] = 'NO MAP USED'} else {query.result[[3]] = q.map}\n",
    "\n",
    "    \n",
    "    #save result\n",
    "    base::save(query.result, file = paste0(\"../AbstractR-projects/LINCS/output/query.result_LINCS_\", Sys.Date(),\".RData\"))\n",
    "\n",
    "    \n",
    "\n",
    "    return(query.result)\n",
    "\n",
    "   \n",
    "}"
   ]
  },
  {
   "cell_type": "markdown",
   "metadata": {},
   "source": [
    "---\n",
    "# ABSTRACT GENE COUNT PARSING FINAL FUNCTION\n",
    "\n",
    "[ ] update prioritization of chemical over abstract for gene parsing line 54 - change outter apply to MC and inner to lapply\n",
    "\n",
    "'''#isolate genes from all abstracts\n",
    "    abstracts.genes.filtered = lapply(seq_along(abstracts), function(y)\n",
    "        mclapply(1:nrow(abstracts[[y]]), function(x) abstracts[[y]][x,2] %>%\n",
    "            remove.punc() %>% match.genes(mouse.rat.vec), mc.cores = 32) %>% unlist()) %>% setNames(names(abstracts))`''"
   ]
  },
  {
   "cell_type": "code",
   "execution_count": 10,
   "metadata": {
    "jupyter": {
     "source_hidden": true
    }
   },
   "outputs": [],
   "source": [
    "#This function reads csv with a list of chemical names and a query map and returns a list of dataframes for all combinations of queries in the data set\n",
    "#this result can be input to two functions: ```PMI_matrix``` which will give you information about the information or strength of the search phrase relative to the total \n",
    "\n",
    "abstract_gene_counts = function(query_result_object) {    \n",
    "\n",
    "    #Libraries\n",
    "    suppressMessages(library(tidyverse))\n",
    "    library(parallel)\n",
    "\n",
    "    #helper functions\n",
    "    remove.punc = function(x) {\n",
    "        string.1 = gsub(\"(?!\\\\.)[[:punct:]]\", \"\", x, perl=TRUE)\n",
    "        string.2 = substr(string.1,1,nchar(string.1)-1) #%>% tolower()\n",
    "        string.3 = str_split(string.2, \" \") %>% unlist()\n",
    "    return(string.3)\n",
    "    }\n",
    "\n",
    "    match.genes <- function(sentence, genelist) {\n",
    "    gene.matches = sentence[sentence %in% genelist]\n",
    "    return(gene.matches)\n",
    "    }\n",
    "\n",
    "    #testingpaths\n",
    "    #query_result_object = \"../AbstractR-projects/LINCS/output/query.result_LINCS_2021-07-29.RData\"\n",
    "    \n",
    "    #read query result\n",
    "    load(paste0(query_result_object))\n",
    "\n",
    "    #set up genes dictionary - improve this in the future, allow for a list of homolouges in a csv from bioMart - for now use your H-M-R set up\n",
    "    #read in coding genes\n",
    "    #also a data dir or lib is needed\n",
    "    gene.list = suppressMessages(suppressWarnings(read_tsv(\"data/proteincodinggenesHGNC.txt\"))) %>%\n",
    "    pull(symbol) %>% unique()\n",
    "    \n",
    "    #read in non human gene lists homolouge lists\n",
    "    nh.gene.list <- suppressMessages(read_csv(\"data/genes.list_h.m.r.csv\")) %>% filter(human %in% gene.list) %>% distinct(`.keep_all` = FALSE)\n",
    "    \n",
    "    #comparative lists\n",
    "    mouse.rat.vec = c(nh.gene.list$human, nh.gene.list$mouse, nh.gene.list$rat) %>% unique()\n",
    "\n",
    "    #filter some bad gene names\n",
    "    bad.genes.q = c('a')\n",
    "    mouse.rat.vec = mouse.rat.vec[!mouse.rat.vec %in% bad.genes.q]\n",
    "\n",
    "    #take only pmids and abstract from the query resul\n",
    "    abstracts = mclapply(seq_along(query.result[[1]]), function(x) {\n",
    "        query.result[[1]][[x]] %>%\n",
    "        select(pmid, abstract)\n",
    "    }, mc.cores = 32) %>% setNames(names(query.result[[1]]))\n",
    "\n",
    "    #isolate genes from all abstracts\n",
    "    abstracts.genes.filtered = mclapply(seq_along(abstracts), function(y)\n",
    "        lapply(1:nrow(abstracts[[y]]), function(x) abstracts[[y]][x,2] %>%\n",
    "            remove.punc() %>% match.genes(mouse.rat.vec)) %>% unlist() %>% na.omit, mc.cores = 32) %>% setNames(names(abstracts))\n",
    "\n",
    "   \n",
    "\n",
    "                                   \n",
    "    #remove empty gene matches\n",
    "    abstracts.genes.filtered = abstracts.genes.filtered[names(lapply(abstracts.genes.filtered, length)[lapply(abstracts.genes.filtered, length) > 0])]\n",
    "\n",
    "    #count the genes for all queried chemicals with genes mentioned in abstracts\n",
    "    query.result.gene.counts = mclapply(seq_along(abstracts.genes.filtered), function(x) {\n",
    "        abstracts.genes.filtered[[x]] %>%\n",
    "            table() %>%\n",
    "            data.frame() %>%\n",
    "            setNames(c('gene', 'count')) %>%\n",
    "            mutate(gene = as.character(gene)) %>%\n",
    "                            mutate(rat = nh.gene.list$human[match(gene, nh.gene.list$rat)], mouse = nh.gene.list$human[match(gene, nh.gene.list$mouse)]) %>%\n",
    "                            mutate(gene = ifelse(is.na(rat), gene, rat), gene = ifelse(is.na(mouse), gene, mouse)) %>%\n",
    "            select(gene, count) %>%\n",
    "            group_by(gene) %>%\n",
    "            summarise(count = sum(count)) %>%\n",
    "            arrange(desc(count))}, mc.cores = 32) %>% setNames(names(abstracts.genes.filtered))\n",
    "\n",
    "    #calulate the final counts matrixs for all fo the samples\n",
    "    abstract.gene.count.matrix = query.result.gene.counts %>% reduce(full_join, by = \"gene\") %>%\n",
    "        arrange(gene) %>%\n",
    "        column_to_rownames('gene') %>%\n",
    "        t() %>%\n",
    "        as.data.frame() %>%\n",
    "        replace(is.na(.), 0) %>%\n",
    "        rownames_to_column('sample') %>%\n",
    "        select(-sample) %>%\n",
    "        mutate(chemical = names(query.result.gene.counts)) %>%\n",
    "        column_to_rownames('chemical')\n",
    "\n",
    "return(abstract.gene.count.matrix)\n",
    "\n",
    "}"
   ]
  },
  {
   "cell_type": "code",
   "execution_count": 21,
   "metadata": {},
   "outputs": [],
   "source": [
    "abstract.gene.count.matrix %>% rownames_to_column('chemicals') %>% write_csv(., path = \"output/LINCS-chemical.no.map-abstract-gene-counts-2021.09.17.csv\" )"
   ]
  },
  {
   "cell_type": "code",
   "execution_count": 23,
   "metadata": {},
   "outputs": [],
   "source": [
    "save(abstract.gene.count.matrix, file = \"../AbstractR-projects/LINCS/output/gene.counts.matrix-2021.09.17-stress.only.RData\")"
   ]
  },
  {
   "cell_type": "markdown",
   "metadata": {},
   "source": [
    "---\n",
    "# PMI calculation"
   ]
  },
  {
   "cell_type": "code",
   "execution_count": 130,
   "metadata": {
    "jupyter": {
     "source_hidden": true
    },
    "tags": []
   },
   "outputs": [],
   "source": [
    "#This function reads a ```query_object``` output by the ```query_result``` function. The result is a list of \n",
    "#parwise mututal information scores resulting from \n",
    "\n",
    "PMI_query_combinations = function(query_result_object, chemical.list.path, search.min = 0, search.max = 100000, num.cores = 1) {\n",
    "\n",
    "    #Libraries\n",
    "    library(tidyverse)\n",
    "    library(parallel)\n",
    "    library(magrittr)\n",
    "\n",
    "    #testingpaths\n",
    "    #  query_result_object = \"input/build/pmi.testing.query.object.RData\"\n",
    "    # chemical.list.path = \"input/build/pmi.testing.chem.list.csv\"\n",
    "    # search.min = 5\n",
    "    # search.max = 100000\n",
    "    #  num.cores = 15\n",
    "\n",
    "        #read query result\n",
    "    load(paste0(query_result_object))\n",
    "    chems.data = suppressMessages(read_csv(paste0(chemical.list.path))) %>%\n",
    "        mutate(q.chemical = paste0('\"',chemicals,'\"'))\n",
    "\n",
    "#take only pmids and abstract from the query result and parse by/ aggregate by SRP/query\n",
    "search_matrix.i = mclapply(seq_along(query.result[[1]]), function(x) { query.result[[1]][[x]] %>%\n",
    "        select(pmid) %>% distinct() %>% setNames(c(\"pmid\")) %>% mutate(query = names(query.result[[1]][x]))}, mc.cores = num.cores) %>%\n",
    "          do.call(rbind, .) %>%\n",
    "         left_join(query.result[[2]], 'query') %>%\n",
    "         mutate(search = query) %>%\n",
    "        separate(col = search, into = c('q.chemical', 'search'), sep = ' AND  ') %>%\n",
    "        left_join(chems.data, 'q.chemical') %>%\n",
    "        mutate(search = gsub('\\\\\"','', search)) %>%\n",
    "        group_split(SRP)\n",
    "\n",
    " # aggregate by SRP and chemcial name to remove non-inique PMIDs and remove negative query phrases\n",
    "\n",
    "search_matrix = mclapply(seq_along(search_matrix.i), function(y){\n",
    "     search_matrix.i[[y]] %>% ungroup() %>%\n",
    "     group_by(SRP, chemicals, pmid) %>%\n",
    "     summarise(dir.tot = direction %>% unique %>% sort %>% paste(collapse = \", \")) %>% #gets rid of negative querried PMIDs\n",
    "     filter(!grepl(pattern = \"neg\", x = dir.tot)) %>%\n",
    "     ungroup() %>%\n",
    "     group_by(SRP, chemicals) %>%\n",
    "     summarise(count = pmid %>% unique() %>% length) %>% #takes the unqiue PMID vector length as n unique searches\n",
    "     ungroup()\n",
    "}, mc.cores = num.cores) %>%\n",
    "     do.call(rbind, .) %>%\n",
    "     pivot_wider(names_from = SRP, values_from = count, values_fill = 0) %>%\n",
    "     filter(!is.na(chemicals)) %>%\n",
    "     column_to_rownames(\"chemicals\") %>%\n",
    "     mutate(rsum = rowSums(across(where(is.numeric))))\n",
    "\n",
    "     \n",
    "     \n",
    "\n",
    "\n",
    "\n",
    "    #filter based on search returns\n",
    "    search_matrix.wide.f = search_matrix %>%\n",
    "        filter(rsum >= search.min & rsum <= search.max) %>%\n",
    "        select(-rsum)\n",
    "\n",
    "\n",
    "    #build a result matrix\n",
    "    search_PMI = matrix(nrow = nrow(search_matrix.wide.f), ncol = ncol(search_matrix.wide.f)) %>%\n",
    "        magrittr::set_rownames(rownames(search_matrix.wide.f)) %>%\n",
    "        magrittr::set_colnames(colnames(search_matrix.wide.f))\n",
    "\n",
    "    #Calculate PMI\n",
    "    for (i in 1:nrow(search_matrix.wide.f)) {\n",
    "        for (j in 1:ncol(search_matrix.wide.f)){\n",
    "        search_PMI[i, j] <- (log2(sum(search_matrix.wide.f[i,])/sum(search_matrix.wide.f))\n",
    "            + log2(sum(search_matrix.wide.f[,j])/sum(search_matrix.wide.f))\n",
    "            -log2(search_matrix.wide.f[i,j]/sum(search_matrix.wide.f))) *-1\n",
    "        }\n",
    "    }\n",
    "  \n",
    "\n",
    "    #clean up infs\n",
    "    search_PMI = search_PMI %>%\n",
    "    replace(is.infinite(.), 0)\n",
    "\n",
    "  \n",
    "    return(search_PMI)\n",
    "    \n",
    "}"
   ]
  },
  {
   "cell_type": "code",
   "execution_count": null,
   "metadata": {},
   "outputs": [],
   "source": [
    "PMI_query_combinations()"
   ]
  },
  {
   "cell_type": "raw",
   "metadata": {},
   "source": [
    "base::save(search_PMI, file = \"../AbstractR-projects/LINCS/output/PMI_table_0t100000_2021.07.29.RData\")"
   ]
  },
  {
   "cell_type": "markdown",
   "metadata": {},
   "source": [
    "---\n",
    "# select.highest\n"
   ]
  },
  {
   "cell_type": "markdown",
   "metadata": {},
   "source": [
    "---\n",
    "# search hits table"
   ]
  },
  {
   "cell_type": "code",
   "execution_count": 1,
   "metadata": {
    "jupyter": {
     "source_hidden": true
    }
   },
   "outputs": [],
   "source": [
    "#This function reads a ```query_object``` output by the ```query_result``` function. The result is a list of \n",
    "#parwise mututal information scores resulting from \n",
    "\n",
    "search_query_combinations = function(query_result_object, chemical.list.path, search.min = 0, search.max = 100000) {\n",
    "\n",
    "    #Libraries\n",
    "    library(tidyverse)\n",
    "    library(parallel)\n",
    "    library(magrittr)\n",
    "\n",
    "    #testingpaths\n",
    "#     query_result_object = \"../AbstractR-projects/LINCS/output/query.result_LINCS_2021-07-29.RData\"\n",
    "#     chemical.list.path = \"input/chemical-list-LINCS-2021.07.23.csv\"\n",
    "#     search.min = 5\n",
    "#     search.max = 100000\n",
    "    \n",
    "\n",
    "    #read query result\n",
    "    load(paste0(query_result_object))\n",
    "    chems.data = suppressMessages(read_csv(paste0(chemical.list.path))) %>%\n",
    "        mutate(q.chemical = paste0('\"',chemicals,'\"'))\n",
    "\n",
    "#take only pmids and abstract from the query result and calc number results\n",
    "search_matrix = mclapply(seq_along(query.result[[1]]), function(x) { query.result[[1]][[x]] %>%\n",
    "        pull(pmid) %>% unique() %>% length() }, mc.cores = 10) %>% setNames(names(query.result[[1]])) %>% unlist() %>%\n",
    "        as.data.frame() %>%\n",
    "        setNames('search_results') %>%\n",
    "        rownames_to_column('query') %>%\n",
    "        left_join(query.result[[2]], 'query') %>%\n",
    "        mutate(search = query) %>%\n",
    "        separate(col = search, into = c('q.chemical', 'search'), sep = ' AND  ') %>%\n",
    "        left_join(chems.data, 'q.chemical') %>%\n",
    "        mutate(search = gsub('\\\\\"','', search)) %>%\n",
    "        select(chemicals, SRP, search, direction, search_results)\n",
    "\n",
    "    #make a wide form matrix\n",
    "    search_matrix.wide = search_matrix %>%\n",
    "        select(chemicals, search, search_results) %>%\n",
    "        pivot_wider(id_cols = chemicals, names_from = search, values_from = search_results) %>%\n",
    "        replace(is.na(.), 0) %>%\n",
    "        mutate(rsum = rowSums(across(where(is.numeric))))\n",
    "\n",
    "    #filter based on search returns\n",
    "    search_matrix.wide.f = search_matrix.wide %>%\n",
    "        filter(rsum >= search.min & rsum <= search.max) %>%\n",
    "        select(-rsum) %>%\n",
    "        column_to_rownames('chemicals')\n",
    "\n",
    "\n",
    "\n",
    "  \n",
    "    return(search_matrix.wide.f)\n",
    "    \n",
    "}"
   ]
  },
  {
   "cell_type": "code",
   "execution_count": 124,
   "metadata": {
    "jupyter": {
     "source_hidden": true
    }
   },
   "outputs": [],
   "source": [
    "#This function takes a numeric matrix resulting from PMI, GSEA (connectivity), or some other metric and \n",
    "#' returns that same matrix with two additional columns: the name of the highest scoring column for each row and\n",
    "#' the corresponding score\n",
    "\n",
    "select.highest = function(score.matrix) {\n",
    "\n",
    "    #Libraries\n",
    "    suppressMessages(library(tidyverse))\n",
    "    \n",
    "    #testingpaths\n",
    "    #score.matrix = score.matrix\n",
    "    \n",
    "\n",
    "    #maxcolumn and value\n",
    "    score.matrix.highest = data.frame(max_column = colnames(score.matrix)[apply(score.matrix, 1, which.max)], stringsAsFactors = FALSE) %>%\n",
    "    cbind(score.matrix %>% apply(1, max) %>% as.data.frame() %>% setNames(\"max_value\") %>%\n",
    "    rownames_to_column(var = \"row\"), .) %>%\n",
    "    left_join(score.matrix %>% as.data.frame() %>% rownames_to_column('row'), by = 'row') %>%\n",
    "    column_to_rownames('row')\n",
    "\n",
    "return(score.matrix.highest)\n",
    "}"
   ]
  },
  {
   "cell_type": "markdown",
   "metadata": {},
   "source": [
    "---\n",
    "# WORK FLOW\n",
    "---"
   ]
  },
  {
   "cell_type": "code",
   "execution_count": 2,
   "metadata": {},
   "outputs": [],
   "source": [
    "suppressMessages(R.utils::sourceDirectory(\"lib/\", modifiedOnly = FALSE, recursive = TRUE))"
   ]
  },
  {
   "cell_type": "code",
   "execution_count": null,
   "metadata": {},
   "outputs": [],
   "source": [
    "query.result = query_result(chemical.list.path = \"input/chemical-list-LINCS-2021.07.23.csv\", query.map.path = \"input/query.map.csv\", limit_input_to = 10)"
   ]
  },
  {
   "cell_type": "code",
   "execution_count": 6,
   "metadata": {},
   "outputs": [],
   "source": [
    "load(\"input/build/pmi.testing.query.object.RData\")"
   ]
  },
  {
   "cell_type": "code",
   "execution_count": 4,
   "metadata": {},
   "outputs": [
    {
     "data": {
      "text/html": [
       "<table>\n",
       "<caption>A spec_tbl_df: 9 × 4</caption>\n",
       "<thead>\n",
       "\t<tr><th scope=col>SRP</th><th scope=col>phrase</th><th scope=col>direction</th><th scope=col>phrase.q</th></tr>\n",
       "\t<tr><th scope=col>&lt;chr&gt;</th><th scope=col>&lt;chr&gt;</th><th scope=col>&lt;chr&gt;</th><th scope=col>&lt;chr&gt;</th></tr>\n",
       "</thead>\n",
       "<tbody>\n",
       "\t<tr><td>DDR</td><td>dna damage               </td><td>pos</td><td>\"dna damage\"               </td></tr>\n",
       "\t<tr><td>UPR</td><td>er stress                </td><td>pos</td><td>\"er stress\"                </td></tr>\n",
       "\t<tr><td>UPR</td><td>unfolded protein response</td><td>pos</td><td>\"unfolded protein response\"</td></tr>\n",
       "\t<tr><td>HSR</td><td>heat shock               </td><td>pos</td><td>\"heat shock\"               </td></tr>\n",
       "\t<tr><td>HPX</td><td>hypoxia                  </td><td>pos</td><td>\"hypoxia\"                  </td></tr>\n",
       "\t<tr><td>MTL</td><td>metal stress             </td><td>pos</td><td>\"metal stress\"             </td></tr>\n",
       "\t<tr><td>MTL</td><td>chelator                 </td><td>neg</td><td>\"chelator\"                 </td></tr>\n",
       "\t<tr><td>OSR</td><td>oxidative stress         </td><td>pos</td><td>\"oxidative stress\"         </td></tr>\n",
       "\t<tr><td>OSR</td><td>antioxidant              </td><td>neg</td><td>\"antioxidant\"              </td></tr>\n",
       "</tbody>\n",
       "</table>\n"
      ],
      "text/latex": [
       "A spec\\_tbl\\_df: 9 × 4\n",
       "\\begin{tabular}{llll}\n",
       " SRP & phrase & direction & phrase.q\\\\\n",
       " <chr> & <chr> & <chr> & <chr>\\\\\n",
       "\\hline\n",
       "\t DDR & dna damage                & pos & \"dna damage\"               \\\\\n",
       "\t UPR & er stress                 & pos & \"er stress\"                \\\\\n",
       "\t UPR & unfolded protein response & pos & \"unfolded protein response\"\\\\\n",
       "\t HSR & heat shock                & pos & \"heat shock\"               \\\\\n",
       "\t HPX & hypoxia                   & pos & \"hypoxia\"                  \\\\\n",
       "\t MTL & metal stress              & pos & \"metal stress\"             \\\\\n",
       "\t MTL & chelator                  & neg & \"chelator\"                 \\\\\n",
       "\t OSR & oxidative stress          & pos & \"oxidative stress\"         \\\\\n",
       "\t OSR & antioxidant               & neg & \"antioxidant\"              \\\\\n",
       "\\end{tabular}\n"
      ],
      "text/markdown": [
       "\n",
       "A spec_tbl_df: 9 × 4\n",
       "\n",
       "| SRP &lt;chr&gt; | phrase &lt;chr&gt; | direction &lt;chr&gt; | phrase.q &lt;chr&gt; |\n",
       "|---|---|---|---|\n",
       "| DDR | dna damage                | pos | \"dna damage\"                |\n",
       "| UPR | er stress                 | pos | \"er stress\"                 |\n",
       "| UPR | unfolded protein response | pos | \"unfolded protein response\" |\n",
       "| HSR | heat shock                | pos | \"heat shock\"                |\n",
       "| HPX | hypoxia                   | pos | \"hypoxia\"                   |\n",
       "| MTL | metal stress              | pos | \"metal stress\"              |\n",
       "| MTL | chelator                  | neg | \"chelator\"                  |\n",
       "| OSR | oxidative stress          | pos | \"oxidative stress\"          |\n",
       "| OSR | antioxidant               | neg | \"antioxidant\"               |\n",
       "\n"
      ],
      "text/plain": [
       "  SRP phrase                    direction phrase.q                   \n",
       "1 DDR dna damage                pos       \"dna damage\"               \n",
       "2 UPR er stress                 pos       \"er stress\"                \n",
       "3 UPR unfolded protein response pos       \"unfolded protein response\"\n",
       "4 HSR heat shock                pos       \"heat shock\"               \n",
       "5 HPX hypoxia                   pos       \"hypoxia\"                  \n",
       "6 MTL metal stress              pos       \"metal stress\"             \n",
       "7 MTL chelator                  neg       \"chelator\"                 \n",
       "8 OSR oxidative stress          pos       \"oxidative stress\"         \n",
       "9 OSR antioxidant               neg       \"antioxidant\"              "
      ]
     },
     "metadata": {},
     "output_type": "display_data"
    }
   ],
   "source": [
    "query.result[[3]]"
   ]
  },
  {
   "cell_type": "code",
   "execution_count": 35,
   "metadata": {},
   "outputs": [],
   "source": [
    "#save(query.result, file = \"input/pmi.testing.query.object.RData\")"
   ]
  },
  {
   "cell_type": "code",
   "execution_count": 1,
   "metadata": {},
   "outputs": [
    {
     "ename": "ERROR",
     "evalue": "Error in abstract_gene_counts(query_result_object = \"input/build/pmi.testing.query.object.RData\"): could not find function \"abstract_gene_counts\"\n",
     "output_type": "error",
     "traceback": [
      "Error in abstract_gene_counts(query_result_object = \"input/build/pmi.testing.query.object.RData\"): could not find function \"abstract_gene_counts\"\nTraceback:\n"
     ]
    }
   ],
   "source": [
    "count.matrix = abstract_gene_counts(query_result_object = \"input/build/pmi.testing.query.object.RData\")"
   ]
  },
  {
   "cell_type": "code",
   "execution_count": 9,
   "metadata": {},
   "outputs": [
    {
     "data": {
      "text/html": [
       "<table>\n",
       "<caption>A data.frame: 17 × 1111</caption>\n",
       "<thead>\n",
       "\t<tr><th></th><th scope=col>AATF</th><th scope=col>ABCA1</th><th scope=col>ABCC1</th><th scope=col>ABCC2</th><th scope=col>ABCC3</th><th scope=col>ABCC5</th><th scope=col>ABCC6</th><th scope=col>ABCC8</th><th scope=col>ABCG2</th><th scope=col>ABCG4</th><th scope=col>⋯</th><th scope=col>XPC</th><th scope=col>XRCC1</th><th scope=col>XRCC3</th><th scope=col>XRCC5</th><th scope=col>XRCC6</th><th scope=col>YAP1</th><th scope=col>YWHAZ</th><th scope=col>ZAP70</th><th scope=col>ZFC3H1</th><th scope=col>ZIC3</th></tr>\n",
       "\t<tr><th></th><th scope=col>&lt;dbl&gt;</th><th scope=col>&lt;dbl&gt;</th><th scope=col>&lt;dbl&gt;</th><th scope=col>&lt;dbl&gt;</th><th scope=col>&lt;dbl&gt;</th><th scope=col>&lt;dbl&gt;</th><th scope=col>&lt;dbl&gt;</th><th scope=col>&lt;dbl&gt;</th><th scope=col>&lt;dbl&gt;</th><th scope=col>&lt;dbl&gt;</th><th scope=col>⋯</th><th scope=col>&lt;dbl&gt;</th><th scope=col>&lt;dbl&gt;</th><th scope=col>&lt;dbl&gt;</th><th scope=col>&lt;dbl&gt;</th><th scope=col>&lt;dbl&gt;</th><th scope=col>&lt;dbl&gt;</th><th scope=col>&lt;dbl&gt;</th><th scope=col>&lt;dbl&gt;</th><th scope=col>&lt;dbl&gt;</th><th scope=col>&lt;dbl&gt;</th></tr>\n",
       "</thead>\n",
       "<tbody>\n",
       "\t<tr><th scope=row>\"(+)-3-(1-propyl-piperidin-3-yl)-phenol\" AND  \"dna damage\"</th><td>5</td><td>3</td><td>1</td><td>0</td><td>0</td><td>0</td><td>0</td><td>0</td><td>0</td><td>1</td><td>⋯</td><td>3</td><td>4</td><td>4</td><td>1</td><td>2</td><td>0</td><td>0</td><td>1</td><td>0</td><td>0</td></tr>\n",
       "\t<tr><th scope=row>\"1,2,3,4-tetrahydroisoquinoline\" AND  \"dna damage\"</th><td>0</td><td>0</td><td>0</td><td>0</td><td>0</td><td>0</td><td>0</td><td>0</td><td>0</td><td>0</td><td>⋯</td><td>0</td><td>0</td><td>0</td><td>0</td><td>0</td><td>0</td><td>0</td><td>0</td><td>0</td><td>0</td></tr>\n",
       "\t<tr><th scope=row>\"(+)-3-(1-propyl-piperidin-3-yl)-phenol\" AND  \"er stress\"</th><td>0</td><td>0</td><td>0</td><td>0</td><td>0</td><td>0</td><td>0</td><td>0</td><td>0</td><td>0</td><td>⋯</td><td>0</td><td>0</td><td>0</td><td>0</td><td>0</td><td>0</td><td>0</td><td>0</td><td>0</td><td>0</td></tr>\n",
       "\t<tr><th scope=row>\"(+)-3-(1-propyl-piperidin-3-yl)-phenol\" AND  \"unfolded protein response\"</th><td>0</td><td>0</td><td>0</td><td>0</td><td>0</td><td>0</td><td>0</td><td>0</td><td>0</td><td>0</td><td>⋯</td><td>0</td><td>0</td><td>0</td><td>0</td><td>0</td><td>0</td><td>0</td><td>0</td><td>0</td><td>0</td></tr>\n",
       "\t<tr><th scope=row>\"(+)-3-(1-propyl-piperidin-3-yl)-phenol\" AND  \"heat shock\"</th><td>0</td><td>0</td><td>2</td><td>0</td><td>0</td><td>0</td><td>0</td><td>0</td><td>0</td><td>0</td><td>⋯</td><td>0</td><td>0</td><td>0</td><td>0</td><td>0</td><td>0</td><td>2</td><td>0</td><td>0</td><td>0</td></tr>\n",
       "\t<tr><th scope=row>\"1,2,3,4-tetrahydroisoquinoline\" AND  \"heat shock\"</th><td>0</td><td>0</td><td>0</td><td>0</td><td>0</td><td>0</td><td>0</td><td>0</td><td>0</td><td>0</td><td>⋯</td><td>0</td><td>0</td><td>0</td><td>0</td><td>0</td><td>0</td><td>0</td><td>0</td><td>0</td><td>0</td></tr>\n",
       "\t<tr><th scope=row>\"(+)-3-(1-propyl-piperidin-3-yl)-phenol\" AND  \"hypoxia\"</th><td>0</td><td>0</td><td>0</td><td>0</td><td>0</td><td>0</td><td>0</td><td>0</td><td>0</td><td>0</td><td>⋯</td><td>0</td><td>0</td><td>0</td><td>0</td><td>0</td><td>0</td><td>0</td><td>0</td><td>1</td><td>0</td></tr>\n",
       "\t<tr><th scope=row>\"1,2,3,4-tetrahydroisoquinoline\" AND  \"hypoxia\"</th><td>0</td><td>0</td><td>0</td><td>0</td><td>0</td><td>0</td><td>0</td><td>0</td><td>0</td><td>0</td><td>⋯</td><td>0</td><td>0</td><td>0</td><td>0</td><td>0</td><td>0</td><td>0</td><td>0</td><td>0</td><td>0</td></tr>\n",
       "\t<tr><th scope=row>\"(+)-3-(1-propyl-piperidin-3-yl)-phenol\" AND  \"metal stress\"</th><td>0</td><td>0</td><td>0</td><td>0</td><td>0</td><td>0</td><td>0</td><td>0</td><td>0</td><td>0</td><td>⋯</td><td>0</td><td>0</td><td>0</td><td>0</td><td>0</td><td>0</td><td>0</td><td>0</td><td>0</td><td>0</td></tr>\n",
       "\t<tr><th scope=row>\"(+)-3-(1-propyl-piperidin-3-yl)-phenol\" AND  \"chelator\"</th><td>0</td><td>0</td><td>0</td><td>0</td><td>0</td><td>0</td><td>0</td><td>0</td><td>0</td><td>0</td><td>⋯</td><td>0</td><td>0</td><td>0</td><td>0</td><td>0</td><td>0</td><td>0</td><td>0</td><td>0</td><td>0</td></tr>\n",
       "\t<tr><th scope=row>\"(+)-3-(1-propyl-piperidin-3-yl)-phenol\" AND  \"oxidative stress\"</th><td>0</td><td>1</td><td>5</td><td>5</td><td>1</td><td>0</td><td>5</td><td>2</td><td>4</td><td>0</td><td>⋯</td><td>2</td><td>3</td><td>2</td><td>3</td><td>2</td><td>2</td><td>0</td><td>0</td><td>1</td><td>2</td></tr>\n",
       "\t<tr><th scope=row>\"1,2-dichlorobenzene\" AND  \"oxidative stress\"</th><td>0</td><td>0</td><td>0</td><td>0</td><td>0</td><td>0</td><td>0</td><td>0</td><td>0</td><td>0</td><td>⋯</td><td>0</td><td>0</td><td>0</td><td>0</td><td>0</td><td>0</td><td>0</td><td>0</td><td>0</td><td>0</td></tr>\n",
       "\t<tr><th scope=row>\"1,2,3,4-tetrahydroisoquinoline\" AND  \"oxidative stress\"</th><td>0</td><td>0</td><td>0</td><td>0</td><td>0</td><td>0</td><td>0</td><td>0</td><td>0</td><td>0</td><td>⋯</td><td>0</td><td>0</td><td>0</td><td>0</td><td>0</td><td>0</td><td>0</td><td>0</td><td>0</td><td>0</td></tr>\n",
       "\t<tr><th scope=row>\"(+)-3-(1-propyl-piperidin-3-yl)-phenol\" AND  \"antioxidant\"</th><td>0</td><td>2</td><td>0</td><td>0</td><td>0</td><td>1</td><td>0</td><td>2</td><td>0</td><td>0</td><td>⋯</td><td>0</td><td>0</td><td>0</td><td>0</td><td>1</td><td>2</td><td>0</td><td>0</td><td>0</td><td>0</td></tr>\n",
       "\t<tr><th scope=row>\"1-benzylimidazole\" AND  \"antioxidant\"</th><td>0</td><td>0</td><td>0</td><td>0</td><td>0</td><td>0</td><td>0</td><td>0</td><td>0</td><td>0</td><td>⋯</td><td>0</td><td>0</td><td>0</td><td>0</td><td>0</td><td>0</td><td>0</td><td>0</td><td>0</td><td>0</td></tr>\n",
       "\t<tr><th scope=row>\"1,2-dichlorobenzene\" AND  \"antioxidant\"</th><td>0</td><td>0</td><td>0</td><td>0</td><td>0</td><td>0</td><td>0</td><td>0</td><td>0</td><td>0</td><td>⋯</td><td>0</td><td>0</td><td>0</td><td>0</td><td>0</td><td>0</td><td>0</td><td>0</td><td>0</td><td>0</td></tr>\n",
       "\t<tr><th scope=row>\"1,2,3,4-tetrahydroisoquinoline\" AND  \"antioxidant\"</th><td>0</td><td>0</td><td>0</td><td>0</td><td>0</td><td>0</td><td>0</td><td>0</td><td>0</td><td>0</td><td>⋯</td><td>0</td><td>0</td><td>0</td><td>0</td><td>0</td><td>0</td><td>0</td><td>0</td><td>0</td><td>0</td></tr>\n",
       "</tbody>\n",
       "</table>\n"
      ],
      "text/latex": [
       "A data.frame: 17 × 1111\n",
       "\\begin{tabular}{r|lllllllllllllllllllll}\n",
       "  & AATF & ABCA1 & ABCC1 & ABCC2 & ABCC3 & ABCC5 & ABCC6 & ABCC8 & ABCG2 & ABCG4 & ⋯ & XPC & XRCC1 & XRCC3 & XRCC5 & XRCC6 & YAP1 & YWHAZ & ZAP70 & ZFC3H1 & ZIC3\\\\\n",
       "  & <dbl> & <dbl> & <dbl> & <dbl> & <dbl> & <dbl> & <dbl> & <dbl> & <dbl> & <dbl> & ⋯ & <dbl> & <dbl> & <dbl> & <dbl> & <dbl> & <dbl> & <dbl> & <dbl> & <dbl> & <dbl>\\\\\n",
       "\\hline\n",
       "\t\"(+)-3-(1-propyl-piperidin-3-yl)-phenol\" AND  \"dna damage\" & 5 & 3 & 1 & 0 & 0 & 0 & 0 & 0 & 0 & 1 & ⋯ & 3 & 4 & 4 & 1 & 2 & 0 & 0 & 1 & 0 & 0\\\\\n",
       "\t\"1,2,3,4-tetrahydroisoquinoline\" AND  \"dna damage\" & 0 & 0 & 0 & 0 & 0 & 0 & 0 & 0 & 0 & 0 & ⋯ & 0 & 0 & 0 & 0 & 0 & 0 & 0 & 0 & 0 & 0\\\\\n",
       "\t\"(+)-3-(1-propyl-piperidin-3-yl)-phenol\" AND  \"er stress\" & 0 & 0 & 0 & 0 & 0 & 0 & 0 & 0 & 0 & 0 & ⋯ & 0 & 0 & 0 & 0 & 0 & 0 & 0 & 0 & 0 & 0\\\\\n",
       "\t\"(+)-3-(1-propyl-piperidin-3-yl)-phenol\" AND  \"unfolded protein response\" & 0 & 0 & 0 & 0 & 0 & 0 & 0 & 0 & 0 & 0 & ⋯ & 0 & 0 & 0 & 0 & 0 & 0 & 0 & 0 & 0 & 0\\\\\n",
       "\t\"(+)-3-(1-propyl-piperidin-3-yl)-phenol\" AND  \"heat shock\" & 0 & 0 & 2 & 0 & 0 & 0 & 0 & 0 & 0 & 0 & ⋯ & 0 & 0 & 0 & 0 & 0 & 0 & 2 & 0 & 0 & 0\\\\\n",
       "\t\"1,2,3,4-tetrahydroisoquinoline\" AND  \"heat shock\" & 0 & 0 & 0 & 0 & 0 & 0 & 0 & 0 & 0 & 0 & ⋯ & 0 & 0 & 0 & 0 & 0 & 0 & 0 & 0 & 0 & 0\\\\\n",
       "\t\"(+)-3-(1-propyl-piperidin-3-yl)-phenol\" AND  \"hypoxia\" & 0 & 0 & 0 & 0 & 0 & 0 & 0 & 0 & 0 & 0 & ⋯ & 0 & 0 & 0 & 0 & 0 & 0 & 0 & 0 & 1 & 0\\\\\n",
       "\t\"1,2,3,4-tetrahydroisoquinoline\" AND  \"hypoxia\" & 0 & 0 & 0 & 0 & 0 & 0 & 0 & 0 & 0 & 0 & ⋯ & 0 & 0 & 0 & 0 & 0 & 0 & 0 & 0 & 0 & 0\\\\\n",
       "\t\"(+)-3-(1-propyl-piperidin-3-yl)-phenol\" AND  \"metal stress\" & 0 & 0 & 0 & 0 & 0 & 0 & 0 & 0 & 0 & 0 & ⋯ & 0 & 0 & 0 & 0 & 0 & 0 & 0 & 0 & 0 & 0\\\\\n",
       "\t\"(+)-3-(1-propyl-piperidin-3-yl)-phenol\" AND  \"chelator\" & 0 & 0 & 0 & 0 & 0 & 0 & 0 & 0 & 0 & 0 & ⋯ & 0 & 0 & 0 & 0 & 0 & 0 & 0 & 0 & 0 & 0\\\\\n",
       "\t\"(+)-3-(1-propyl-piperidin-3-yl)-phenol\" AND  \"oxidative stress\" & 0 & 1 & 5 & 5 & 1 & 0 & 5 & 2 & 4 & 0 & ⋯ & 2 & 3 & 2 & 3 & 2 & 2 & 0 & 0 & 1 & 2\\\\\n",
       "\t\"1,2-dichlorobenzene\" AND  \"oxidative stress\" & 0 & 0 & 0 & 0 & 0 & 0 & 0 & 0 & 0 & 0 & ⋯ & 0 & 0 & 0 & 0 & 0 & 0 & 0 & 0 & 0 & 0\\\\\n",
       "\t\"1,2,3,4-tetrahydroisoquinoline\" AND  \"oxidative stress\" & 0 & 0 & 0 & 0 & 0 & 0 & 0 & 0 & 0 & 0 & ⋯ & 0 & 0 & 0 & 0 & 0 & 0 & 0 & 0 & 0 & 0\\\\\n",
       "\t\"(+)-3-(1-propyl-piperidin-3-yl)-phenol\" AND  \"antioxidant\" & 0 & 2 & 0 & 0 & 0 & 1 & 0 & 2 & 0 & 0 & ⋯ & 0 & 0 & 0 & 0 & 1 & 2 & 0 & 0 & 0 & 0\\\\\n",
       "\t\"1-benzylimidazole\" AND  \"antioxidant\" & 0 & 0 & 0 & 0 & 0 & 0 & 0 & 0 & 0 & 0 & ⋯ & 0 & 0 & 0 & 0 & 0 & 0 & 0 & 0 & 0 & 0\\\\\n",
       "\t\"1,2-dichlorobenzene\" AND  \"antioxidant\" & 0 & 0 & 0 & 0 & 0 & 0 & 0 & 0 & 0 & 0 & ⋯ & 0 & 0 & 0 & 0 & 0 & 0 & 0 & 0 & 0 & 0\\\\\n",
       "\t\"1,2,3,4-tetrahydroisoquinoline\" AND  \"antioxidant\" & 0 & 0 & 0 & 0 & 0 & 0 & 0 & 0 & 0 & 0 & ⋯ & 0 & 0 & 0 & 0 & 0 & 0 & 0 & 0 & 0 & 0\\\\\n",
       "\\end{tabular}\n"
      ],
      "text/markdown": [
       "\n",
       "A data.frame: 17 × 1111\n",
       "\n",
       "| <!--/--> | AATF &lt;dbl&gt; | ABCA1 &lt;dbl&gt; | ABCC1 &lt;dbl&gt; | ABCC2 &lt;dbl&gt; | ABCC3 &lt;dbl&gt; | ABCC5 &lt;dbl&gt; | ABCC6 &lt;dbl&gt; | ABCC8 &lt;dbl&gt; | ABCG2 &lt;dbl&gt; | ABCG4 &lt;dbl&gt; | ⋯ ⋯ | XPC &lt;dbl&gt; | XRCC1 &lt;dbl&gt; | XRCC3 &lt;dbl&gt; | XRCC5 &lt;dbl&gt; | XRCC6 &lt;dbl&gt; | YAP1 &lt;dbl&gt; | YWHAZ &lt;dbl&gt; | ZAP70 &lt;dbl&gt; | ZFC3H1 &lt;dbl&gt; | ZIC3 &lt;dbl&gt; |\n",
       "|---|---|---|---|---|---|---|---|---|---|---|---|---|---|---|---|---|---|---|---|---|---|\n",
       "| \"(+)-3-(1-propyl-piperidin-3-yl)-phenol\" AND  \"dna damage\" | 5 | 3 | 1 | 0 | 0 | 0 | 0 | 0 | 0 | 1 | ⋯ | 3 | 4 | 4 | 1 | 2 | 0 | 0 | 1 | 0 | 0 |\n",
       "| \"1,2,3,4-tetrahydroisoquinoline\" AND  \"dna damage\" | 0 | 0 | 0 | 0 | 0 | 0 | 0 | 0 | 0 | 0 | ⋯ | 0 | 0 | 0 | 0 | 0 | 0 | 0 | 0 | 0 | 0 |\n",
       "| \"(+)-3-(1-propyl-piperidin-3-yl)-phenol\" AND  \"er stress\" | 0 | 0 | 0 | 0 | 0 | 0 | 0 | 0 | 0 | 0 | ⋯ | 0 | 0 | 0 | 0 | 0 | 0 | 0 | 0 | 0 | 0 |\n",
       "| \"(+)-3-(1-propyl-piperidin-3-yl)-phenol\" AND  \"unfolded protein response\" | 0 | 0 | 0 | 0 | 0 | 0 | 0 | 0 | 0 | 0 | ⋯ | 0 | 0 | 0 | 0 | 0 | 0 | 0 | 0 | 0 | 0 |\n",
       "| \"(+)-3-(1-propyl-piperidin-3-yl)-phenol\" AND  \"heat shock\" | 0 | 0 | 2 | 0 | 0 | 0 | 0 | 0 | 0 | 0 | ⋯ | 0 | 0 | 0 | 0 | 0 | 0 | 2 | 0 | 0 | 0 |\n",
       "| \"1,2,3,4-tetrahydroisoquinoline\" AND  \"heat shock\" | 0 | 0 | 0 | 0 | 0 | 0 | 0 | 0 | 0 | 0 | ⋯ | 0 | 0 | 0 | 0 | 0 | 0 | 0 | 0 | 0 | 0 |\n",
       "| \"(+)-3-(1-propyl-piperidin-3-yl)-phenol\" AND  \"hypoxia\" | 0 | 0 | 0 | 0 | 0 | 0 | 0 | 0 | 0 | 0 | ⋯ | 0 | 0 | 0 | 0 | 0 | 0 | 0 | 0 | 1 | 0 |\n",
       "| \"1,2,3,4-tetrahydroisoquinoline\" AND  \"hypoxia\" | 0 | 0 | 0 | 0 | 0 | 0 | 0 | 0 | 0 | 0 | ⋯ | 0 | 0 | 0 | 0 | 0 | 0 | 0 | 0 | 0 | 0 |\n",
       "| \"(+)-3-(1-propyl-piperidin-3-yl)-phenol\" AND  \"metal stress\" | 0 | 0 | 0 | 0 | 0 | 0 | 0 | 0 | 0 | 0 | ⋯ | 0 | 0 | 0 | 0 | 0 | 0 | 0 | 0 | 0 | 0 |\n",
       "| \"(+)-3-(1-propyl-piperidin-3-yl)-phenol\" AND  \"chelator\" | 0 | 0 | 0 | 0 | 0 | 0 | 0 | 0 | 0 | 0 | ⋯ | 0 | 0 | 0 | 0 | 0 | 0 | 0 | 0 | 0 | 0 |\n",
       "| \"(+)-3-(1-propyl-piperidin-3-yl)-phenol\" AND  \"oxidative stress\" | 0 | 1 | 5 | 5 | 1 | 0 | 5 | 2 | 4 | 0 | ⋯ | 2 | 3 | 2 | 3 | 2 | 2 | 0 | 0 | 1 | 2 |\n",
       "| \"1,2-dichlorobenzene\" AND  \"oxidative stress\" | 0 | 0 | 0 | 0 | 0 | 0 | 0 | 0 | 0 | 0 | ⋯ | 0 | 0 | 0 | 0 | 0 | 0 | 0 | 0 | 0 | 0 |\n",
       "| \"1,2,3,4-tetrahydroisoquinoline\" AND  \"oxidative stress\" | 0 | 0 | 0 | 0 | 0 | 0 | 0 | 0 | 0 | 0 | ⋯ | 0 | 0 | 0 | 0 | 0 | 0 | 0 | 0 | 0 | 0 |\n",
       "| \"(+)-3-(1-propyl-piperidin-3-yl)-phenol\" AND  \"antioxidant\" | 0 | 2 | 0 | 0 | 0 | 1 | 0 | 2 | 0 | 0 | ⋯ | 0 | 0 | 0 | 0 | 1 | 2 | 0 | 0 | 0 | 0 |\n",
       "| \"1-benzylimidazole\" AND  \"antioxidant\" | 0 | 0 | 0 | 0 | 0 | 0 | 0 | 0 | 0 | 0 | ⋯ | 0 | 0 | 0 | 0 | 0 | 0 | 0 | 0 | 0 | 0 |\n",
       "| \"1,2-dichlorobenzene\" AND  \"antioxidant\" | 0 | 0 | 0 | 0 | 0 | 0 | 0 | 0 | 0 | 0 | ⋯ | 0 | 0 | 0 | 0 | 0 | 0 | 0 | 0 | 0 | 0 |\n",
       "| \"1,2,3,4-tetrahydroisoquinoline\" AND  \"antioxidant\" | 0 | 0 | 0 | 0 | 0 | 0 | 0 | 0 | 0 | 0 | ⋯ | 0 | 0 | 0 | 0 | 0 | 0 | 0 | 0 | 0 | 0 |\n",
       "\n"
      ],
      "text/plain": [
       "                                                                          AATF\n",
       "\"(+)-3-(1-propyl-piperidin-3-yl)-phenol\" AND  \"dna damage\"                5   \n",
       "\"1,2,3,4-tetrahydroisoquinoline\" AND  \"dna damage\"                        0   \n",
       "\"(+)-3-(1-propyl-piperidin-3-yl)-phenol\" AND  \"er stress\"                 0   \n",
       "\"(+)-3-(1-propyl-piperidin-3-yl)-phenol\" AND  \"unfolded protein response\" 0   \n",
       "\"(+)-3-(1-propyl-piperidin-3-yl)-phenol\" AND  \"heat shock\"                0   \n",
       "\"1,2,3,4-tetrahydroisoquinoline\" AND  \"heat shock\"                        0   \n",
       "\"(+)-3-(1-propyl-piperidin-3-yl)-phenol\" AND  \"hypoxia\"                   0   \n",
       "\"1,2,3,4-tetrahydroisoquinoline\" AND  \"hypoxia\"                           0   \n",
       "\"(+)-3-(1-propyl-piperidin-3-yl)-phenol\" AND  \"metal stress\"              0   \n",
       "\"(+)-3-(1-propyl-piperidin-3-yl)-phenol\" AND  \"chelator\"                  0   \n",
       "\"(+)-3-(1-propyl-piperidin-3-yl)-phenol\" AND  \"oxidative stress\"          0   \n",
       "\"1,2-dichlorobenzene\" AND  \"oxidative stress\"                             0   \n",
       "\"1,2,3,4-tetrahydroisoquinoline\" AND  \"oxidative stress\"                  0   \n",
       "\"(+)-3-(1-propyl-piperidin-3-yl)-phenol\" AND  \"antioxidant\"               0   \n",
       "\"1-benzylimidazole\" AND  \"antioxidant\"                                    0   \n",
       "\"1,2-dichlorobenzene\" AND  \"antioxidant\"                                  0   \n",
       "\"1,2,3,4-tetrahydroisoquinoline\" AND  \"antioxidant\"                       0   \n",
       "                                                                          ABCA1\n",
       "\"(+)-3-(1-propyl-piperidin-3-yl)-phenol\" AND  \"dna damage\"                3    \n",
       "\"1,2,3,4-tetrahydroisoquinoline\" AND  \"dna damage\"                        0    \n",
       "\"(+)-3-(1-propyl-piperidin-3-yl)-phenol\" AND  \"er stress\"                 0    \n",
       "\"(+)-3-(1-propyl-piperidin-3-yl)-phenol\" AND  \"unfolded protein response\" 0    \n",
       "\"(+)-3-(1-propyl-piperidin-3-yl)-phenol\" AND  \"heat shock\"                0    \n",
       "\"1,2,3,4-tetrahydroisoquinoline\" AND  \"heat shock\"                        0    \n",
       "\"(+)-3-(1-propyl-piperidin-3-yl)-phenol\" AND  \"hypoxia\"                   0    \n",
       "\"1,2,3,4-tetrahydroisoquinoline\" AND  \"hypoxia\"                           0    \n",
       "\"(+)-3-(1-propyl-piperidin-3-yl)-phenol\" AND  \"metal stress\"              0    \n",
       "\"(+)-3-(1-propyl-piperidin-3-yl)-phenol\" AND  \"chelator\"                  0    \n",
       "\"(+)-3-(1-propyl-piperidin-3-yl)-phenol\" AND  \"oxidative stress\"          1    \n",
       "\"1,2-dichlorobenzene\" AND  \"oxidative stress\"                             0    \n",
       "\"1,2,3,4-tetrahydroisoquinoline\" AND  \"oxidative stress\"                  0    \n",
       "\"(+)-3-(1-propyl-piperidin-3-yl)-phenol\" AND  \"antioxidant\"               2    \n",
       "\"1-benzylimidazole\" AND  \"antioxidant\"                                    0    \n",
       "\"1,2-dichlorobenzene\" AND  \"antioxidant\"                                  0    \n",
       "\"1,2,3,4-tetrahydroisoquinoline\" AND  \"antioxidant\"                       0    \n",
       "                                                                          ABCC1\n",
       "\"(+)-3-(1-propyl-piperidin-3-yl)-phenol\" AND  \"dna damage\"                1    \n",
       "\"1,2,3,4-tetrahydroisoquinoline\" AND  \"dna damage\"                        0    \n",
       "\"(+)-3-(1-propyl-piperidin-3-yl)-phenol\" AND  \"er stress\"                 0    \n",
       "\"(+)-3-(1-propyl-piperidin-3-yl)-phenol\" AND  \"unfolded protein response\" 0    \n",
       "\"(+)-3-(1-propyl-piperidin-3-yl)-phenol\" AND  \"heat shock\"                2    \n",
       "\"1,2,3,4-tetrahydroisoquinoline\" AND  \"heat shock\"                        0    \n",
       "\"(+)-3-(1-propyl-piperidin-3-yl)-phenol\" AND  \"hypoxia\"                   0    \n",
       "\"1,2,3,4-tetrahydroisoquinoline\" AND  \"hypoxia\"                           0    \n",
       "\"(+)-3-(1-propyl-piperidin-3-yl)-phenol\" AND  \"metal stress\"              0    \n",
       "\"(+)-3-(1-propyl-piperidin-3-yl)-phenol\" AND  \"chelator\"                  0    \n",
       "\"(+)-3-(1-propyl-piperidin-3-yl)-phenol\" AND  \"oxidative stress\"          5    \n",
       "\"1,2-dichlorobenzene\" AND  \"oxidative stress\"                             0    \n",
       "\"1,2,3,4-tetrahydroisoquinoline\" AND  \"oxidative stress\"                  0    \n",
       "\"(+)-3-(1-propyl-piperidin-3-yl)-phenol\" AND  \"antioxidant\"               0    \n",
       "\"1-benzylimidazole\" AND  \"antioxidant\"                                    0    \n",
       "\"1,2-dichlorobenzene\" AND  \"antioxidant\"                                  0    \n",
       "\"1,2,3,4-tetrahydroisoquinoline\" AND  \"antioxidant\"                       0    \n",
       "                                                                          ABCC2\n",
       "\"(+)-3-(1-propyl-piperidin-3-yl)-phenol\" AND  \"dna damage\"                0    \n",
       "\"1,2,3,4-tetrahydroisoquinoline\" AND  \"dna damage\"                        0    \n",
       "\"(+)-3-(1-propyl-piperidin-3-yl)-phenol\" AND  \"er stress\"                 0    \n",
       "\"(+)-3-(1-propyl-piperidin-3-yl)-phenol\" AND  \"unfolded protein response\" 0    \n",
       "\"(+)-3-(1-propyl-piperidin-3-yl)-phenol\" AND  \"heat shock\"                0    \n",
       "\"1,2,3,4-tetrahydroisoquinoline\" AND  \"heat shock\"                        0    \n",
       "\"(+)-3-(1-propyl-piperidin-3-yl)-phenol\" AND  \"hypoxia\"                   0    \n",
       "\"1,2,3,4-tetrahydroisoquinoline\" AND  \"hypoxia\"                           0    \n",
       "\"(+)-3-(1-propyl-piperidin-3-yl)-phenol\" AND  \"metal stress\"              0    \n",
       "\"(+)-3-(1-propyl-piperidin-3-yl)-phenol\" AND  \"chelator\"                  0    \n",
       "\"(+)-3-(1-propyl-piperidin-3-yl)-phenol\" AND  \"oxidative stress\"          5    \n",
       "\"1,2-dichlorobenzene\" AND  \"oxidative stress\"                             0    \n",
       "\"1,2,3,4-tetrahydroisoquinoline\" AND  \"oxidative stress\"                  0    \n",
       "\"(+)-3-(1-propyl-piperidin-3-yl)-phenol\" AND  \"antioxidant\"               0    \n",
       "\"1-benzylimidazole\" AND  \"antioxidant\"                                    0    \n",
       "\"1,2-dichlorobenzene\" AND  \"antioxidant\"                                  0    \n",
       "\"1,2,3,4-tetrahydroisoquinoline\" AND  \"antioxidant\"                       0    \n",
       "                                                                          ABCC3\n",
       "\"(+)-3-(1-propyl-piperidin-3-yl)-phenol\" AND  \"dna damage\"                0    \n",
       "\"1,2,3,4-tetrahydroisoquinoline\" AND  \"dna damage\"                        0    \n",
       "\"(+)-3-(1-propyl-piperidin-3-yl)-phenol\" AND  \"er stress\"                 0    \n",
       "\"(+)-3-(1-propyl-piperidin-3-yl)-phenol\" AND  \"unfolded protein response\" 0    \n",
       "\"(+)-3-(1-propyl-piperidin-3-yl)-phenol\" AND  \"heat shock\"                0    \n",
       "\"1,2,3,4-tetrahydroisoquinoline\" AND  \"heat shock\"                        0    \n",
       "\"(+)-3-(1-propyl-piperidin-3-yl)-phenol\" AND  \"hypoxia\"                   0    \n",
       "\"1,2,3,4-tetrahydroisoquinoline\" AND  \"hypoxia\"                           0    \n",
       "\"(+)-3-(1-propyl-piperidin-3-yl)-phenol\" AND  \"metal stress\"              0    \n",
       "\"(+)-3-(1-propyl-piperidin-3-yl)-phenol\" AND  \"chelator\"                  0    \n",
       "\"(+)-3-(1-propyl-piperidin-3-yl)-phenol\" AND  \"oxidative stress\"          1    \n",
       "\"1,2-dichlorobenzene\" AND  \"oxidative stress\"                             0    \n",
       "\"1,2,3,4-tetrahydroisoquinoline\" AND  \"oxidative stress\"                  0    \n",
       "\"(+)-3-(1-propyl-piperidin-3-yl)-phenol\" AND  \"antioxidant\"               0    \n",
       "\"1-benzylimidazole\" AND  \"antioxidant\"                                    0    \n",
       "\"1,2-dichlorobenzene\" AND  \"antioxidant\"                                  0    \n",
       "\"1,2,3,4-tetrahydroisoquinoline\" AND  \"antioxidant\"                       0    \n",
       "                                                                          ABCC5\n",
       "\"(+)-3-(1-propyl-piperidin-3-yl)-phenol\" AND  \"dna damage\"                0    \n",
       "\"1,2,3,4-tetrahydroisoquinoline\" AND  \"dna damage\"                        0    \n",
       "\"(+)-3-(1-propyl-piperidin-3-yl)-phenol\" AND  \"er stress\"                 0    \n",
       "\"(+)-3-(1-propyl-piperidin-3-yl)-phenol\" AND  \"unfolded protein response\" 0    \n",
       "\"(+)-3-(1-propyl-piperidin-3-yl)-phenol\" AND  \"heat shock\"                0    \n",
       "\"1,2,3,4-tetrahydroisoquinoline\" AND  \"heat shock\"                        0    \n",
       "\"(+)-3-(1-propyl-piperidin-3-yl)-phenol\" AND  \"hypoxia\"                   0    \n",
       "\"1,2,3,4-tetrahydroisoquinoline\" AND  \"hypoxia\"                           0    \n",
       "\"(+)-3-(1-propyl-piperidin-3-yl)-phenol\" AND  \"metal stress\"              0    \n",
       "\"(+)-3-(1-propyl-piperidin-3-yl)-phenol\" AND  \"chelator\"                  0    \n",
       "\"(+)-3-(1-propyl-piperidin-3-yl)-phenol\" AND  \"oxidative stress\"          0    \n",
       "\"1,2-dichlorobenzene\" AND  \"oxidative stress\"                             0    \n",
       "\"1,2,3,4-tetrahydroisoquinoline\" AND  \"oxidative stress\"                  0    \n",
       "\"(+)-3-(1-propyl-piperidin-3-yl)-phenol\" AND  \"antioxidant\"               1    \n",
       "\"1-benzylimidazole\" AND  \"antioxidant\"                                    0    \n",
       "\"1,2-dichlorobenzene\" AND  \"antioxidant\"                                  0    \n",
       "\"1,2,3,4-tetrahydroisoquinoline\" AND  \"antioxidant\"                       0    \n",
       "                                                                          ABCC6\n",
       "\"(+)-3-(1-propyl-piperidin-3-yl)-phenol\" AND  \"dna damage\"                0    \n",
       "\"1,2,3,4-tetrahydroisoquinoline\" AND  \"dna damage\"                        0    \n",
       "\"(+)-3-(1-propyl-piperidin-3-yl)-phenol\" AND  \"er stress\"                 0    \n",
       "\"(+)-3-(1-propyl-piperidin-3-yl)-phenol\" AND  \"unfolded protein response\" 0    \n",
       "\"(+)-3-(1-propyl-piperidin-3-yl)-phenol\" AND  \"heat shock\"                0    \n",
       "\"1,2,3,4-tetrahydroisoquinoline\" AND  \"heat shock\"                        0    \n",
       "\"(+)-3-(1-propyl-piperidin-3-yl)-phenol\" AND  \"hypoxia\"                   0    \n",
       "\"1,2,3,4-tetrahydroisoquinoline\" AND  \"hypoxia\"                           0    \n",
       "\"(+)-3-(1-propyl-piperidin-3-yl)-phenol\" AND  \"metal stress\"              0    \n",
       "\"(+)-3-(1-propyl-piperidin-3-yl)-phenol\" AND  \"chelator\"                  0    \n",
       "\"(+)-3-(1-propyl-piperidin-3-yl)-phenol\" AND  \"oxidative stress\"          5    \n",
       "\"1,2-dichlorobenzene\" AND  \"oxidative stress\"                             0    \n",
       "\"1,2,3,4-tetrahydroisoquinoline\" AND  \"oxidative stress\"                  0    \n",
       "\"(+)-3-(1-propyl-piperidin-3-yl)-phenol\" AND  \"antioxidant\"               0    \n",
       "\"1-benzylimidazole\" AND  \"antioxidant\"                                    0    \n",
       "\"1,2-dichlorobenzene\" AND  \"antioxidant\"                                  0    \n",
       "\"1,2,3,4-tetrahydroisoquinoline\" AND  \"antioxidant\"                       0    \n",
       "                                                                          ABCC8\n",
       "\"(+)-3-(1-propyl-piperidin-3-yl)-phenol\" AND  \"dna damage\"                0    \n",
       "\"1,2,3,4-tetrahydroisoquinoline\" AND  \"dna damage\"                        0    \n",
       "\"(+)-3-(1-propyl-piperidin-3-yl)-phenol\" AND  \"er stress\"                 0    \n",
       "\"(+)-3-(1-propyl-piperidin-3-yl)-phenol\" AND  \"unfolded protein response\" 0    \n",
       "\"(+)-3-(1-propyl-piperidin-3-yl)-phenol\" AND  \"heat shock\"                0    \n",
       "\"1,2,3,4-tetrahydroisoquinoline\" AND  \"heat shock\"                        0    \n",
       "\"(+)-3-(1-propyl-piperidin-3-yl)-phenol\" AND  \"hypoxia\"                   0    \n",
       "\"1,2,3,4-tetrahydroisoquinoline\" AND  \"hypoxia\"                           0    \n",
       "\"(+)-3-(1-propyl-piperidin-3-yl)-phenol\" AND  \"metal stress\"              0    \n",
       "\"(+)-3-(1-propyl-piperidin-3-yl)-phenol\" AND  \"chelator\"                  0    \n",
       "\"(+)-3-(1-propyl-piperidin-3-yl)-phenol\" AND  \"oxidative stress\"          2    \n",
       "\"1,2-dichlorobenzene\" AND  \"oxidative stress\"                             0    \n",
       "\"1,2,3,4-tetrahydroisoquinoline\" AND  \"oxidative stress\"                  0    \n",
       "\"(+)-3-(1-propyl-piperidin-3-yl)-phenol\" AND  \"antioxidant\"               2    \n",
       "\"1-benzylimidazole\" AND  \"antioxidant\"                                    0    \n",
       "\"1,2-dichlorobenzene\" AND  \"antioxidant\"                                  0    \n",
       "\"1,2,3,4-tetrahydroisoquinoline\" AND  \"antioxidant\"                       0    \n",
       "                                                                          ABCG2\n",
       "\"(+)-3-(1-propyl-piperidin-3-yl)-phenol\" AND  \"dna damage\"                0    \n",
       "\"1,2,3,4-tetrahydroisoquinoline\" AND  \"dna damage\"                        0    \n",
       "\"(+)-3-(1-propyl-piperidin-3-yl)-phenol\" AND  \"er stress\"                 0    \n",
       "\"(+)-3-(1-propyl-piperidin-3-yl)-phenol\" AND  \"unfolded protein response\" 0    \n",
       "\"(+)-3-(1-propyl-piperidin-3-yl)-phenol\" AND  \"heat shock\"                0    \n",
       "\"1,2,3,4-tetrahydroisoquinoline\" AND  \"heat shock\"                        0    \n",
       "\"(+)-3-(1-propyl-piperidin-3-yl)-phenol\" AND  \"hypoxia\"                   0    \n",
       "\"1,2,3,4-tetrahydroisoquinoline\" AND  \"hypoxia\"                           0    \n",
       "\"(+)-3-(1-propyl-piperidin-3-yl)-phenol\" AND  \"metal stress\"              0    \n",
       "\"(+)-3-(1-propyl-piperidin-3-yl)-phenol\" AND  \"chelator\"                  0    \n",
       "\"(+)-3-(1-propyl-piperidin-3-yl)-phenol\" AND  \"oxidative stress\"          4    \n",
       "\"1,2-dichlorobenzene\" AND  \"oxidative stress\"                             0    \n",
       "\"1,2,3,4-tetrahydroisoquinoline\" AND  \"oxidative stress\"                  0    \n",
       "\"(+)-3-(1-propyl-piperidin-3-yl)-phenol\" AND  \"antioxidant\"               0    \n",
       "\"1-benzylimidazole\" AND  \"antioxidant\"                                    0    \n",
       "\"1,2-dichlorobenzene\" AND  \"antioxidant\"                                  0    \n",
       "\"1,2,3,4-tetrahydroisoquinoline\" AND  \"antioxidant\"                       0    \n",
       "                                                                          ABCG4\n",
       "\"(+)-3-(1-propyl-piperidin-3-yl)-phenol\" AND  \"dna damage\"                1    \n",
       "\"1,2,3,4-tetrahydroisoquinoline\" AND  \"dna damage\"                        0    \n",
       "\"(+)-3-(1-propyl-piperidin-3-yl)-phenol\" AND  \"er stress\"                 0    \n",
       "\"(+)-3-(1-propyl-piperidin-3-yl)-phenol\" AND  \"unfolded protein response\" 0    \n",
       "\"(+)-3-(1-propyl-piperidin-3-yl)-phenol\" AND  \"heat shock\"                0    \n",
       "\"1,2,3,4-tetrahydroisoquinoline\" AND  \"heat shock\"                        0    \n",
       "\"(+)-3-(1-propyl-piperidin-3-yl)-phenol\" AND  \"hypoxia\"                   0    \n",
       "\"1,2,3,4-tetrahydroisoquinoline\" AND  \"hypoxia\"                           0    \n",
       "\"(+)-3-(1-propyl-piperidin-3-yl)-phenol\" AND  \"metal stress\"              0    \n",
       "\"(+)-3-(1-propyl-piperidin-3-yl)-phenol\" AND  \"chelator\"                  0    \n",
       "\"(+)-3-(1-propyl-piperidin-3-yl)-phenol\" AND  \"oxidative stress\"          0    \n",
       "\"1,2-dichlorobenzene\" AND  \"oxidative stress\"                             0    \n",
       "\"1,2,3,4-tetrahydroisoquinoline\" AND  \"oxidative stress\"                  0    \n",
       "\"(+)-3-(1-propyl-piperidin-3-yl)-phenol\" AND  \"antioxidant\"               0    \n",
       "\"1-benzylimidazole\" AND  \"antioxidant\"                                    0    \n",
       "\"1,2-dichlorobenzene\" AND  \"antioxidant\"                                  0    \n",
       "\"1,2,3,4-tetrahydroisoquinoline\" AND  \"antioxidant\"                       0    \n",
       "                                                                          ⋯ XPC\n",
       "\"(+)-3-(1-propyl-piperidin-3-yl)-phenol\" AND  \"dna damage\"                ⋯ 3  \n",
       "\"1,2,3,4-tetrahydroisoquinoline\" AND  \"dna damage\"                        ⋯ 0  \n",
       "\"(+)-3-(1-propyl-piperidin-3-yl)-phenol\" AND  \"er stress\"                 ⋯ 0  \n",
       "\"(+)-3-(1-propyl-piperidin-3-yl)-phenol\" AND  \"unfolded protein response\" ⋯ 0  \n",
       "\"(+)-3-(1-propyl-piperidin-3-yl)-phenol\" AND  \"heat shock\"                ⋯ 0  \n",
       "\"1,2,3,4-tetrahydroisoquinoline\" AND  \"heat shock\"                        ⋯ 0  \n",
       "\"(+)-3-(1-propyl-piperidin-3-yl)-phenol\" AND  \"hypoxia\"                   ⋯ 0  \n",
       "\"1,2,3,4-tetrahydroisoquinoline\" AND  \"hypoxia\"                           ⋯ 0  \n",
       "\"(+)-3-(1-propyl-piperidin-3-yl)-phenol\" AND  \"metal stress\"              ⋯ 0  \n",
       "\"(+)-3-(1-propyl-piperidin-3-yl)-phenol\" AND  \"chelator\"                  ⋯ 0  \n",
       "\"(+)-3-(1-propyl-piperidin-3-yl)-phenol\" AND  \"oxidative stress\"          ⋯ 2  \n",
       "\"1,2-dichlorobenzene\" AND  \"oxidative stress\"                             ⋯ 0  \n",
       "\"1,2,3,4-tetrahydroisoquinoline\" AND  \"oxidative stress\"                  ⋯ 0  \n",
       "\"(+)-3-(1-propyl-piperidin-3-yl)-phenol\" AND  \"antioxidant\"               ⋯ 0  \n",
       "\"1-benzylimidazole\" AND  \"antioxidant\"                                    ⋯ 0  \n",
       "\"1,2-dichlorobenzene\" AND  \"antioxidant\"                                  ⋯ 0  \n",
       "\"1,2,3,4-tetrahydroisoquinoline\" AND  \"antioxidant\"                       ⋯ 0  \n",
       "                                                                          XRCC1\n",
       "\"(+)-3-(1-propyl-piperidin-3-yl)-phenol\" AND  \"dna damage\"                4    \n",
       "\"1,2,3,4-tetrahydroisoquinoline\" AND  \"dna damage\"                        0    \n",
       "\"(+)-3-(1-propyl-piperidin-3-yl)-phenol\" AND  \"er stress\"                 0    \n",
       "\"(+)-3-(1-propyl-piperidin-3-yl)-phenol\" AND  \"unfolded protein response\" 0    \n",
       "\"(+)-3-(1-propyl-piperidin-3-yl)-phenol\" AND  \"heat shock\"                0    \n",
       "\"1,2,3,4-tetrahydroisoquinoline\" AND  \"heat shock\"                        0    \n",
       "\"(+)-3-(1-propyl-piperidin-3-yl)-phenol\" AND  \"hypoxia\"                   0    \n",
       "\"1,2,3,4-tetrahydroisoquinoline\" AND  \"hypoxia\"                           0    \n",
       "\"(+)-3-(1-propyl-piperidin-3-yl)-phenol\" AND  \"metal stress\"              0    \n",
       "\"(+)-3-(1-propyl-piperidin-3-yl)-phenol\" AND  \"chelator\"                  0    \n",
       "\"(+)-3-(1-propyl-piperidin-3-yl)-phenol\" AND  \"oxidative stress\"          3    \n",
       "\"1,2-dichlorobenzene\" AND  \"oxidative stress\"                             0    \n",
       "\"1,2,3,4-tetrahydroisoquinoline\" AND  \"oxidative stress\"                  0    \n",
       "\"(+)-3-(1-propyl-piperidin-3-yl)-phenol\" AND  \"antioxidant\"               0    \n",
       "\"1-benzylimidazole\" AND  \"antioxidant\"                                    0    \n",
       "\"1,2-dichlorobenzene\" AND  \"antioxidant\"                                  0    \n",
       "\"1,2,3,4-tetrahydroisoquinoline\" AND  \"antioxidant\"                       0    \n",
       "                                                                          XRCC3\n",
       "\"(+)-3-(1-propyl-piperidin-3-yl)-phenol\" AND  \"dna damage\"                4    \n",
       "\"1,2,3,4-tetrahydroisoquinoline\" AND  \"dna damage\"                        0    \n",
       "\"(+)-3-(1-propyl-piperidin-3-yl)-phenol\" AND  \"er stress\"                 0    \n",
       "\"(+)-3-(1-propyl-piperidin-3-yl)-phenol\" AND  \"unfolded protein response\" 0    \n",
       "\"(+)-3-(1-propyl-piperidin-3-yl)-phenol\" AND  \"heat shock\"                0    \n",
       "\"1,2,3,4-tetrahydroisoquinoline\" AND  \"heat shock\"                        0    \n",
       "\"(+)-3-(1-propyl-piperidin-3-yl)-phenol\" AND  \"hypoxia\"                   0    \n",
       "\"1,2,3,4-tetrahydroisoquinoline\" AND  \"hypoxia\"                           0    \n",
       "\"(+)-3-(1-propyl-piperidin-3-yl)-phenol\" AND  \"metal stress\"              0    \n",
       "\"(+)-3-(1-propyl-piperidin-3-yl)-phenol\" AND  \"chelator\"                  0    \n",
       "\"(+)-3-(1-propyl-piperidin-3-yl)-phenol\" AND  \"oxidative stress\"          2    \n",
       "\"1,2-dichlorobenzene\" AND  \"oxidative stress\"                             0    \n",
       "\"1,2,3,4-tetrahydroisoquinoline\" AND  \"oxidative stress\"                  0    \n",
       "\"(+)-3-(1-propyl-piperidin-3-yl)-phenol\" AND  \"antioxidant\"               0    \n",
       "\"1-benzylimidazole\" AND  \"antioxidant\"                                    0    \n",
       "\"1,2-dichlorobenzene\" AND  \"antioxidant\"                                  0    \n",
       "\"1,2,3,4-tetrahydroisoquinoline\" AND  \"antioxidant\"                       0    \n",
       "                                                                          XRCC5\n",
       "\"(+)-3-(1-propyl-piperidin-3-yl)-phenol\" AND  \"dna damage\"                1    \n",
       "\"1,2,3,4-tetrahydroisoquinoline\" AND  \"dna damage\"                        0    \n",
       "\"(+)-3-(1-propyl-piperidin-3-yl)-phenol\" AND  \"er stress\"                 0    \n",
       "\"(+)-3-(1-propyl-piperidin-3-yl)-phenol\" AND  \"unfolded protein response\" 0    \n",
       "\"(+)-3-(1-propyl-piperidin-3-yl)-phenol\" AND  \"heat shock\"                0    \n",
       "\"1,2,3,4-tetrahydroisoquinoline\" AND  \"heat shock\"                        0    \n",
       "\"(+)-3-(1-propyl-piperidin-3-yl)-phenol\" AND  \"hypoxia\"                   0    \n",
       "\"1,2,3,4-tetrahydroisoquinoline\" AND  \"hypoxia\"                           0    \n",
       "\"(+)-3-(1-propyl-piperidin-3-yl)-phenol\" AND  \"metal stress\"              0    \n",
       "\"(+)-3-(1-propyl-piperidin-3-yl)-phenol\" AND  \"chelator\"                  0    \n",
       "\"(+)-3-(1-propyl-piperidin-3-yl)-phenol\" AND  \"oxidative stress\"          3    \n",
       "\"1,2-dichlorobenzene\" AND  \"oxidative stress\"                             0    \n",
       "\"1,2,3,4-tetrahydroisoquinoline\" AND  \"oxidative stress\"                  0    \n",
       "\"(+)-3-(1-propyl-piperidin-3-yl)-phenol\" AND  \"antioxidant\"               0    \n",
       "\"1-benzylimidazole\" AND  \"antioxidant\"                                    0    \n",
       "\"1,2-dichlorobenzene\" AND  \"antioxidant\"                                  0    \n",
       "\"1,2,3,4-tetrahydroisoquinoline\" AND  \"antioxidant\"                       0    \n",
       "                                                                          XRCC6\n",
       "\"(+)-3-(1-propyl-piperidin-3-yl)-phenol\" AND  \"dna damage\"                2    \n",
       "\"1,2,3,4-tetrahydroisoquinoline\" AND  \"dna damage\"                        0    \n",
       "\"(+)-3-(1-propyl-piperidin-3-yl)-phenol\" AND  \"er stress\"                 0    \n",
       "\"(+)-3-(1-propyl-piperidin-3-yl)-phenol\" AND  \"unfolded protein response\" 0    \n",
       "\"(+)-3-(1-propyl-piperidin-3-yl)-phenol\" AND  \"heat shock\"                0    \n",
       "\"1,2,3,4-tetrahydroisoquinoline\" AND  \"heat shock\"                        0    \n",
       "\"(+)-3-(1-propyl-piperidin-3-yl)-phenol\" AND  \"hypoxia\"                   0    \n",
       "\"1,2,3,4-tetrahydroisoquinoline\" AND  \"hypoxia\"                           0    \n",
       "\"(+)-3-(1-propyl-piperidin-3-yl)-phenol\" AND  \"metal stress\"              0    \n",
       "\"(+)-3-(1-propyl-piperidin-3-yl)-phenol\" AND  \"chelator\"                  0    \n",
       "\"(+)-3-(1-propyl-piperidin-3-yl)-phenol\" AND  \"oxidative stress\"          2    \n",
       "\"1,2-dichlorobenzene\" AND  \"oxidative stress\"                             0    \n",
       "\"1,2,3,4-tetrahydroisoquinoline\" AND  \"oxidative stress\"                  0    \n",
       "\"(+)-3-(1-propyl-piperidin-3-yl)-phenol\" AND  \"antioxidant\"               1    \n",
       "\"1-benzylimidazole\" AND  \"antioxidant\"                                    0    \n",
       "\"1,2-dichlorobenzene\" AND  \"antioxidant\"                                  0    \n",
       "\"1,2,3,4-tetrahydroisoquinoline\" AND  \"antioxidant\"                       0    \n",
       "                                                                          YAP1\n",
       "\"(+)-3-(1-propyl-piperidin-3-yl)-phenol\" AND  \"dna damage\"                0   \n",
       "\"1,2,3,4-tetrahydroisoquinoline\" AND  \"dna damage\"                        0   \n",
       "\"(+)-3-(1-propyl-piperidin-3-yl)-phenol\" AND  \"er stress\"                 0   \n",
       "\"(+)-3-(1-propyl-piperidin-3-yl)-phenol\" AND  \"unfolded protein response\" 0   \n",
       "\"(+)-3-(1-propyl-piperidin-3-yl)-phenol\" AND  \"heat shock\"                0   \n",
       "\"1,2,3,4-tetrahydroisoquinoline\" AND  \"heat shock\"                        0   \n",
       "\"(+)-3-(1-propyl-piperidin-3-yl)-phenol\" AND  \"hypoxia\"                   0   \n",
       "\"1,2,3,4-tetrahydroisoquinoline\" AND  \"hypoxia\"                           0   \n",
       "\"(+)-3-(1-propyl-piperidin-3-yl)-phenol\" AND  \"metal stress\"              0   \n",
       "\"(+)-3-(1-propyl-piperidin-3-yl)-phenol\" AND  \"chelator\"                  0   \n",
       "\"(+)-3-(1-propyl-piperidin-3-yl)-phenol\" AND  \"oxidative stress\"          2   \n",
       "\"1,2-dichlorobenzene\" AND  \"oxidative stress\"                             0   \n",
       "\"1,2,3,4-tetrahydroisoquinoline\" AND  \"oxidative stress\"                  0   \n",
       "\"(+)-3-(1-propyl-piperidin-3-yl)-phenol\" AND  \"antioxidant\"               2   \n",
       "\"1-benzylimidazole\" AND  \"antioxidant\"                                    0   \n",
       "\"1,2-dichlorobenzene\" AND  \"antioxidant\"                                  0   \n",
       "\"1,2,3,4-tetrahydroisoquinoline\" AND  \"antioxidant\"                       0   \n",
       "                                                                          YWHAZ\n",
       "\"(+)-3-(1-propyl-piperidin-3-yl)-phenol\" AND  \"dna damage\"                0    \n",
       "\"1,2,3,4-tetrahydroisoquinoline\" AND  \"dna damage\"                        0    \n",
       "\"(+)-3-(1-propyl-piperidin-3-yl)-phenol\" AND  \"er stress\"                 0    \n",
       "\"(+)-3-(1-propyl-piperidin-3-yl)-phenol\" AND  \"unfolded protein response\" 0    \n",
       "\"(+)-3-(1-propyl-piperidin-3-yl)-phenol\" AND  \"heat shock\"                2    \n",
       "\"1,2,3,4-tetrahydroisoquinoline\" AND  \"heat shock\"                        0    \n",
       "\"(+)-3-(1-propyl-piperidin-3-yl)-phenol\" AND  \"hypoxia\"                   0    \n",
       "\"1,2,3,4-tetrahydroisoquinoline\" AND  \"hypoxia\"                           0    \n",
       "\"(+)-3-(1-propyl-piperidin-3-yl)-phenol\" AND  \"metal stress\"              0    \n",
       "\"(+)-3-(1-propyl-piperidin-3-yl)-phenol\" AND  \"chelator\"                  0    \n",
       "\"(+)-3-(1-propyl-piperidin-3-yl)-phenol\" AND  \"oxidative stress\"          0    \n",
       "\"1,2-dichlorobenzene\" AND  \"oxidative stress\"                             0    \n",
       "\"1,2,3,4-tetrahydroisoquinoline\" AND  \"oxidative stress\"                  0    \n",
       "\"(+)-3-(1-propyl-piperidin-3-yl)-phenol\" AND  \"antioxidant\"               0    \n",
       "\"1-benzylimidazole\" AND  \"antioxidant\"                                    0    \n",
       "\"1,2-dichlorobenzene\" AND  \"antioxidant\"                                  0    \n",
       "\"1,2,3,4-tetrahydroisoquinoline\" AND  \"antioxidant\"                       0    \n",
       "                                                                          ZAP70\n",
       "\"(+)-3-(1-propyl-piperidin-3-yl)-phenol\" AND  \"dna damage\"                1    \n",
       "\"1,2,3,4-tetrahydroisoquinoline\" AND  \"dna damage\"                        0    \n",
       "\"(+)-3-(1-propyl-piperidin-3-yl)-phenol\" AND  \"er stress\"                 0    \n",
       "\"(+)-3-(1-propyl-piperidin-3-yl)-phenol\" AND  \"unfolded protein response\" 0    \n",
       "\"(+)-3-(1-propyl-piperidin-3-yl)-phenol\" AND  \"heat shock\"                0    \n",
       "\"1,2,3,4-tetrahydroisoquinoline\" AND  \"heat shock\"                        0    \n",
       "\"(+)-3-(1-propyl-piperidin-3-yl)-phenol\" AND  \"hypoxia\"                   0    \n",
       "\"1,2,3,4-tetrahydroisoquinoline\" AND  \"hypoxia\"                           0    \n",
       "\"(+)-3-(1-propyl-piperidin-3-yl)-phenol\" AND  \"metal stress\"              0    \n",
       "\"(+)-3-(1-propyl-piperidin-3-yl)-phenol\" AND  \"chelator\"                  0    \n",
       "\"(+)-3-(1-propyl-piperidin-3-yl)-phenol\" AND  \"oxidative stress\"          0    \n",
       "\"1,2-dichlorobenzene\" AND  \"oxidative stress\"                             0    \n",
       "\"1,2,3,4-tetrahydroisoquinoline\" AND  \"oxidative stress\"                  0    \n",
       "\"(+)-3-(1-propyl-piperidin-3-yl)-phenol\" AND  \"antioxidant\"               0    \n",
       "\"1-benzylimidazole\" AND  \"antioxidant\"                                    0    \n",
       "\"1,2-dichlorobenzene\" AND  \"antioxidant\"                                  0    \n",
       "\"1,2,3,4-tetrahydroisoquinoline\" AND  \"antioxidant\"                       0    \n",
       "                                                                          ZFC3H1\n",
       "\"(+)-3-(1-propyl-piperidin-3-yl)-phenol\" AND  \"dna damage\"                0     \n",
       "\"1,2,3,4-tetrahydroisoquinoline\" AND  \"dna damage\"                        0     \n",
       "\"(+)-3-(1-propyl-piperidin-3-yl)-phenol\" AND  \"er stress\"                 0     \n",
       "\"(+)-3-(1-propyl-piperidin-3-yl)-phenol\" AND  \"unfolded protein response\" 0     \n",
       "\"(+)-3-(1-propyl-piperidin-3-yl)-phenol\" AND  \"heat shock\"                0     \n",
       "\"1,2,3,4-tetrahydroisoquinoline\" AND  \"heat shock\"                        0     \n",
       "\"(+)-3-(1-propyl-piperidin-3-yl)-phenol\" AND  \"hypoxia\"                   1     \n",
       "\"1,2,3,4-tetrahydroisoquinoline\" AND  \"hypoxia\"                           0     \n",
       "\"(+)-3-(1-propyl-piperidin-3-yl)-phenol\" AND  \"metal stress\"              0     \n",
       "\"(+)-3-(1-propyl-piperidin-3-yl)-phenol\" AND  \"chelator\"                  0     \n",
       "\"(+)-3-(1-propyl-piperidin-3-yl)-phenol\" AND  \"oxidative stress\"          1     \n",
       "\"1,2-dichlorobenzene\" AND  \"oxidative stress\"                             0     \n",
       "\"1,2,3,4-tetrahydroisoquinoline\" AND  \"oxidative stress\"                  0     \n",
       "\"(+)-3-(1-propyl-piperidin-3-yl)-phenol\" AND  \"antioxidant\"               0     \n",
       "\"1-benzylimidazole\" AND  \"antioxidant\"                                    0     \n",
       "\"1,2-dichlorobenzene\" AND  \"antioxidant\"                                  0     \n",
       "\"1,2,3,4-tetrahydroisoquinoline\" AND  \"antioxidant\"                       0     \n",
       "                                                                          ZIC3\n",
       "\"(+)-3-(1-propyl-piperidin-3-yl)-phenol\" AND  \"dna damage\"                0   \n",
       "\"1,2,3,4-tetrahydroisoquinoline\" AND  \"dna damage\"                        0   \n",
       "\"(+)-3-(1-propyl-piperidin-3-yl)-phenol\" AND  \"er stress\"                 0   \n",
       "\"(+)-3-(1-propyl-piperidin-3-yl)-phenol\" AND  \"unfolded protein response\" 0   \n",
       "\"(+)-3-(1-propyl-piperidin-3-yl)-phenol\" AND  \"heat shock\"                0   \n",
       "\"1,2,3,4-tetrahydroisoquinoline\" AND  \"heat shock\"                        0   \n",
       "\"(+)-3-(1-propyl-piperidin-3-yl)-phenol\" AND  \"hypoxia\"                   0   \n",
       "\"1,2,3,4-tetrahydroisoquinoline\" AND  \"hypoxia\"                           0   \n",
       "\"(+)-3-(1-propyl-piperidin-3-yl)-phenol\" AND  \"metal stress\"              0   \n",
       "\"(+)-3-(1-propyl-piperidin-3-yl)-phenol\" AND  \"chelator\"                  0   \n",
       "\"(+)-3-(1-propyl-piperidin-3-yl)-phenol\" AND  \"oxidative stress\"          2   \n",
       "\"1,2-dichlorobenzene\" AND  \"oxidative stress\"                             0   \n",
       "\"1,2,3,4-tetrahydroisoquinoline\" AND  \"oxidative stress\"                  0   \n",
       "\"(+)-3-(1-propyl-piperidin-3-yl)-phenol\" AND  \"antioxidant\"               0   \n",
       "\"1-benzylimidazole\" AND  \"antioxidant\"                                    0   \n",
       "\"1,2-dichlorobenzene\" AND  \"antioxidant\"                                  0   \n",
       "\"1,2,3,4-tetrahydroisoquinoline\" AND  \"antioxidant\"                       0   "
      ]
     },
     "metadata": {},
     "output_type": "display_data"
    }
   ],
   "source": [
    "count.matrix"
   ]
  },
  {
   "cell_type": "code",
   "execution_count": 98,
   "metadata": {},
   "outputs": [],
   "source": [
    "PMI_matrix = PMI_query_combinations(query_result_object = \"input/build/pmi.testing.query.object.RData\", chemical.list.path = \"input/chemical-list-LINCS-2021.07.23.csv\", search.min = 0, search.max = 100000)"
   ]
  },
  {
   "cell_type": "code",
   "execution_count": 99,
   "metadata": {},
   "outputs": [
    {
     "data": {
      "text/html": [
       "<table>\n",
       "<caption>A matrix: 5 × 9 of type dbl</caption>\n",
       "<thead>\n",
       "\t<tr><th></th><th scope=col>dna damage</th><th scope=col>er stress</th><th scope=col>unfolded protein response</th><th scope=col>heat shock</th><th scope=col>hypoxia</th><th scope=col>metal stress</th><th scope=col>chelator</th><th scope=col>oxidative stress</th><th scope=col>antioxidant</th></tr>\n",
       "</thead>\n",
       "<tbody>\n",
       "\t<tr><th scope=row>(+)-3-(1-propyl-piperidin-3-yl)-phenol</th><td>-0.003703959</td><td>0.001878590</td><td>-0.01570382</td><td>-0.0004072132</td><td>0.001498881</td><td>0.007755157</td><td>-0.001852171</td><td>-0.002881479</td><td> 0.003433551</td></tr>\n",
       "\t<tr><th scope=row>1-benzylimidazole</th><td> 1.257411714</td><td>0.000000000</td><td> 0.00000000</td><td> 0.0000000000</td><td>0.000000000</td><td>0.000000000</td><td> 2.741013500</td><td> 0.000000000</td><td> 0.854120978</td></tr>\n",
       "\t<tr><th scope=row>1,2-dichlorobenzene</th><td> 0.878900091</td><td>0.000000000</td><td> 0.00000000</td><td> 0.7130390220</td><td>0.000000000</td><td>0.000000000</td><td> 0.000000000</td><td> 1.054256825</td><td>-2.109353146</td></tr>\n",
       "\t<tr><th scope=row>1,2,3,4-tetrahydroisoquinoline</th><td> 0.455957394</td><td>0.009868715</td><td> 1.99818691</td><td> 0.0677039033</td><td>0.100009770</td><td>0.000000000</td><td> 0.132204257</td><td> 0.354473922</td><td>-0.880219147</td></tr>\n",
       "\t<tr><th scope=row>1-monopalmitin</th><td> 0.000000000</td><td>0.000000000</td><td> 0.00000000</td><td> 0.0000000000</td><td>0.000000000</td><td>0.000000000</td><td> 0.000000000</td><td> 1.584771542</td><td> 0.000000000</td></tr>\n",
       "</tbody>\n",
       "</table>\n"
      ],
      "text/latex": [
       "A matrix: 5 × 9 of type dbl\n",
       "\\begin{tabular}{r|lllllllll}\n",
       "  & dna damage & er stress & unfolded protein response & heat shock & hypoxia & metal stress & chelator & oxidative stress & antioxidant\\\\\n",
       "\\hline\n",
       "\t(+)-3-(1-propyl-piperidin-3-yl)-phenol & -0.003703959 & 0.001878590 & -0.01570382 & -0.0004072132 & 0.001498881 & 0.007755157 & -0.001852171 & -0.002881479 &  0.003433551\\\\\n",
       "\t1-benzylimidazole &  1.257411714 & 0.000000000 &  0.00000000 &  0.0000000000 & 0.000000000 & 0.000000000 &  2.741013500 &  0.000000000 &  0.854120978\\\\\n",
       "\t1,2-dichlorobenzene &  0.878900091 & 0.000000000 &  0.00000000 &  0.7130390220 & 0.000000000 & 0.000000000 &  0.000000000 &  1.054256825 & -2.109353146\\\\\n",
       "\t1,2,3,4-tetrahydroisoquinoline &  0.455957394 & 0.009868715 &  1.99818691 &  0.0677039033 & 0.100009770 & 0.000000000 &  0.132204257 &  0.354473922 & -0.880219147\\\\\n",
       "\t1-monopalmitin &  0.000000000 & 0.000000000 &  0.00000000 &  0.0000000000 & 0.000000000 & 0.000000000 &  0.000000000 &  1.584771542 &  0.000000000\\\\\n",
       "\\end{tabular}\n"
      ],
      "text/markdown": [
       "\n",
       "A matrix: 5 × 9 of type dbl\n",
       "\n",
       "| <!--/--> | dna damage | er stress | unfolded protein response | heat shock | hypoxia | metal stress | chelator | oxidative stress | antioxidant |\n",
       "|---|---|---|---|---|---|---|---|---|---|\n",
       "| (+)-3-(1-propyl-piperidin-3-yl)-phenol | -0.003703959 | 0.001878590 | -0.01570382 | -0.0004072132 | 0.001498881 | 0.007755157 | -0.001852171 | -0.002881479 |  0.003433551 |\n",
       "| 1-benzylimidazole |  1.257411714 | 0.000000000 |  0.00000000 |  0.0000000000 | 0.000000000 | 0.000000000 |  2.741013500 |  0.000000000 |  0.854120978 |\n",
       "| 1,2-dichlorobenzene |  0.878900091 | 0.000000000 |  0.00000000 |  0.7130390220 | 0.000000000 | 0.000000000 |  0.000000000 |  1.054256825 | -2.109353146 |\n",
       "| 1,2,3,4-tetrahydroisoquinoline |  0.455957394 | 0.009868715 |  1.99818691 |  0.0677039033 | 0.100009770 | 0.000000000 |  0.132204257 |  0.354473922 | -0.880219147 |\n",
       "| 1-monopalmitin |  0.000000000 | 0.000000000 |  0.00000000 |  0.0000000000 | 0.000000000 | 0.000000000 |  0.000000000 |  1.584771542 |  0.000000000 |\n",
       "\n"
      ],
      "text/plain": [
       "                                       dna damage   er stress  \n",
       "(+)-3-(1-propyl-piperidin-3-yl)-phenol -0.003703959 0.001878590\n",
       "1-benzylimidazole                       1.257411714 0.000000000\n",
       "1,2-dichlorobenzene                     0.878900091 0.000000000\n",
       "1,2,3,4-tetrahydroisoquinoline          0.455957394 0.009868715\n",
       "1-monopalmitin                          0.000000000 0.000000000\n",
       "                                       unfolded protein response heat shock   \n",
       "(+)-3-(1-propyl-piperidin-3-yl)-phenol -0.01570382               -0.0004072132\n",
       "1-benzylimidazole                       0.00000000                0.0000000000\n",
       "1,2-dichlorobenzene                     0.00000000                0.7130390220\n",
       "1,2,3,4-tetrahydroisoquinoline          1.99818691                0.0677039033\n",
       "1-monopalmitin                          0.00000000                0.0000000000\n",
       "                                       hypoxia     metal stress chelator    \n",
       "(+)-3-(1-propyl-piperidin-3-yl)-phenol 0.001498881 0.007755157  -0.001852171\n",
       "1-benzylimidazole                      0.000000000 0.000000000   2.741013500\n",
       "1,2-dichlorobenzene                    0.000000000 0.000000000   0.000000000\n",
       "1,2,3,4-tetrahydroisoquinoline         0.100009770 0.000000000   0.132204257\n",
       "1-monopalmitin                         0.000000000 0.000000000   0.000000000\n",
       "                                       oxidative stress antioxidant \n",
       "(+)-3-(1-propyl-piperidin-3-yl)-phenol -0.002881479      0.003433551\n",
       "1-benzylimidazole                       0.000000000      0.854120978\n",
       "1,2-dichlorobenzene                     1.054256825     -2.109353146\n",
       "1,2,3,4-tetrahydroisoquinoline          0.354473922     -0.880219147\n",
       "1-monopalmitin                          1.584771542      0.000000000"
      ]
     },
     "metadata": {},
     "output_type": "display_data"
    }
   ],
   "source": [
    "PMI_matrix"
   ]
  },
  {
   "cell_type": "code",
   "execution_count": 125,
   "metadata": {},
   "outputs": [],
   "source": [
    "PMI_matrix_best = select.highest(score.matrix = PMI_matrix)"
   ]
  },
  {
   "cell_type": "code",
   "execution_count": 126,
   "metadata": {},
   "outputs": [
    {
     "data": {
      "text/html": [
       "<table>\n",
       "<caption>A data.frame: 5 × 11</caption>\n",
       "<thead>\n",
       "\t<tr><th></th><th scope=col>max_value</th><th scope=col>max_column</th><th scope=col>dna damage</th><th scope=col>er stress</th><th scope=col>unfolded protein response</th><th scope=col>heat shock</th><th scope=col>hypoxia</th><th scope=col>metal stress</th><th scope=col>chelator</th><th scope=col>oxidative stress</th><th scope=col>antioxidant</th></tr>\n",
       "\t<tr><th></th><th scope=col>&lt;dbl&gt;</th><th scope=col>&lt;chr&gt;</th><th scope=col>&lt;dbl&gt;</th><th scope=col>&lt;dbl&gt;</th><th scope=col>&lt;dbl&gt;</th><th scope=col>&lt;dbl&gt;</th><th scope=col>&lt;dbl&gt;</th><th scope=col>&lt;dbl&gt;</th><th scope=col>&lt;dbl&gt;</th><th scope=col>&lt;dbl&gt;</th><th scope=col>&lt;dbl&gt;</th></tr>\n",
       "</thead>\n",
       "<tbody>\n",
       "\t<tr><th scope=row>(+)-3-(1-propyl-piperidin-3-yl)-phenol</th><td>0.007755157</td><td>metal stress             </td><td>-0.003703959</td><td>0.001878590</td><td>-0.01570382</td><td>-0.0004072132</td><td>0.001498881</td><td>0.007755157</td><td>-0.001852171</td><td>-0.002881479</td><td> 0.003433551</td></tr>\n",
       "\t<tr><th scope=row>1-benzylimidazole</th><td>2.741013500</td><td>chelator                 </td><td> 1.257411714</td><td>0.000000000</td><td> 0.00000000</td><td> 0.0000000000</td><td>0.000000000</td><td>0.000000000</td><td> 2.741013500</td><td> 0.000000000</td><td> 0.854120978</td></tr>\n",
       "\t<tr><th scope=row>1,2-dichlorobenzene</th><td>1.054256825</td><td>oxidative stress         </td><td> 0.878900091</td><td>0.000000000</td><td> 0.00000000</td><td> 0.7130390220</td><td>0.000000000</td><td>0.000000000</td><td> 0.000000000</td><td> 1.054256825</td><td>-2.109353146</td></tr>\n",
       "\t<tr><th scope=row>1,2,3,4-tetrahydroisoquinoline</th><td>1.998186909</td><td>unfolded protein response</td><td> 0.455957394</td><td>0.009868715</td><td> 1.99818691</td><td> 0.0677039033</td><td>0.100009770</td><td>0.000000000</td><td> 0.132204257</td><td> 0.354473922</td><td>-0.880219147</td></tr>\n",
       "\t<tr><th scope=row>1-monopalmitin</th><td>1.584771542</td><td>oxidative stress         </td><td> 0.000000000</td><td>0.000000000</td><td> 0.00000000</td><td> 0.0000000000</td><td>0.000000000</td><td>0.000000000</td><td> 0.000000000</td><td> 1.584771542</td><td> 0.000000000</td></tr>\n",
       "</tbody>\n",
       "</table>\n"
      ],
      "text/latex": [
       "A data.frame: 5 × 11\n",
       "\\begin{tabular}{r|lllllllllll}\n",
       "  & max\\_value & max\\_column & dna damage & er stress & unfolded protein response & heat shock & hypoxia & metal stress & chelator & oxidative stress & antioxidant\\\\\n",
       "  & <dbl> & <chr> & <dbl> & <dbl> & <dbl> & <dbl> & <dbl> & <dbl> & <dbl> & <dbl> & <dbl>\\\\\n",
       "\\hline\n",
       "\t(+)-3-(1-propyl-piperidin-3-yl)-phenol & 0.007755157 & metal stress              & -0.003703959 & 0.001878590 & -0.01570382 & -0.0004072132 & 0.001498881 & 0.007755157 & -0.001852171 & -0.002881479 &  0.003433551\\\\\n",
       "\t1-benzylimidazole & 2.741013500 & chelator                  &  1.257411714 & 0.000000000 &  0.00000000 &  0.0000000000 & 0.000000000 & 0.000000000 &  2.741013500 &  0.000000000 &  0.854120978\\\\\n",
       "\t1,2-dichlorobenzene & 1.054256825 & oxidative stress          &  0.878900091 & 0.000000000 &  0.00000000 &  0.7130390220 & 0.000000000 & 0.000000000 &  0.000000000 &  1.054256825 & -2.109353146\\\\\n",
       "\t1,2,3,4-tetrahydroisoquinoline & 1.998186909 & unfolded protein response &  0.455957394 & 0.009868715 &  1.99818691 &  0.0677039033 & 0.100009770 & 0.000000000 &  0.132204257 &  0.354473922 & -0.880219147\\\\\n",
       "\t1-monopalmitin & 1.584771542 & oxidative stress          &  0.000000000 & 0.000000000 &  0.00000000 &  0.0000000000 & 0.000000000 & 0.000000000 &  0.000000000 &  1.584771542 &  0.000000000\\\\\n",
       "\\end{tabular}\n"
      ],
      "text/markdown": [
       "\n",
       "A data.frame: 5 × 11\n",
       "\n",
       "| <!--/--> | max_value &lt;dbl&gt; | max_column &lt;chr&gt; | dna damage &lt;dbl&gt; | er stress &lt;dbl&gt; | unfolded protein response &lt;dbl&gt; | heat shock &lt;dbl&gt; | hypoxia &lt;dbl&gt; | metal stress &lt;dbl&gt; | chelator &lt;dbl&gt; | oxidative stress &lt;dbl&gt; | antioxidant &lt;dbl&gt; |\n",
       "|---|---|---|---|---|---|---|---|---|---|---|---|\n",
       "| (+)-3-(1-propyl-piperidin-3-yl)-phenol | 0.007755157 | metal stress              | -0.003703959 | 0.001878590 | -0.01570382 | -0.0004072132 | 0.001498881 | 0.007755157 | -0.001852171 | -0.002881479 |  0.003433551 |\n",
       "| 1-benzylimidazole | 2.741013500 | chelator                  |  1.257411714 | 0.000000000 |  0.00000000 |  0.0000000000 | 0.000000000 | 0.000000000 |  2.741013500 |  0.000000000 |  0.854120978 |\n",
       "| 1,2-dichlorobenzene | 1.054256825 | oxidative stress          |  0.878900091 | 0.000000000 |  0.00000000 |  0.7130390220 | 0.000000000 | 0.000000000 |  0.000000000 |  1.054256825 | -2.109353146 |\n",
       "| 1,2,3,4-tetrahydroisoquinoline | 1.998186909 | unfolded protein response |  0.455957394 | 0.009868715 |  1.99818691 |  0.0677039033 | 0.100009770 | 0.000000000 |  0.132204257 |  0.354473922 | -0.880219147 |\n",
       "| 1-monopalmitin | 1.584771542 | oxidative stress          |  0.000000000 | 0.000000000 |  0.00000000 |  0.0000000000 | 0.000000000 | 0.000000000 |  0.000000000 |  1.584771542 |  0.000000000 |\n",
       "\n"
      ],
      "text/plain": [
       "                                       max_value   max_column               \n",
       "(+)-3-(1-propyl-piperidin-3-yl)-phenol 0.007755157 metal stress             \n",
       "1-benzylimidazole                      2.741013500 chelator                 \n",
       "1,2-dichlorobenzene                    1.054256825 oxidative stress         \n",
       "1,2,3,4-tetrahydroisoquinoline         1.998186909 unfolded protein response\n",
       "1-monopalmitin                         1.584771542 oxidative stress         \n",
       "                                       dna damage   er stress  \n",
       "(+)-3-(1-propyl-piperidin-3-yl)-phenol -0.003703959 0.001878590\n",
       "1-benzylimidazole                       1.257411714 0.000000000\n",
       "1,2-dichlorobenzene                     0.878900091 0.000000000\n",
       "1,2,3,4-tetrahydroisoquinoline          0.455957394 0.009868715\n",
       "1-monopalmitin                          0.000000000 0.000000000\n",
       "                                       unfolded protein response heat shock   \n",
       "(+)-3-(1-propyl-piperidin-3-yl)-phenol -0.01570382               -0.0004072132\n",
       "1-benzylimidazole                       0.00000000                0.0000000000\n",
       "1,2-dichlorobenzene                     0.00000000                0.7130390220\n",
       "1,2,3,4-tetrahydroisoquinoline          1.99818691                0.0677039033\n",
       "1-monopalmitin                          0.00000000                0.0000000000\n",
       "                                       hypoxia     metal stress chelator    \n",
       "(+)-3-(1-propyl-piperidin-3-yl)-phenol 0.001498881 0.007755157  -0.001852171\n",
       "1-benzylimidazole                      0.000000000 0.000000000   2.741013500\n",
       "1,2-dichlorobenzene                    0.000000000 0.000000000   0.000000000\n",
       "1,2,3,4-tetrahydroisoquinoline         0.100009770 0.000000000   0.132204257\n",
       "1-monopalmitin                         0.000000000 0.000000000   0.000000000\n",
       "                                       oxidative stress antioxidant \n",
       "(+)-3-(1-propyl-piperidin-3-yl)-phenol -0.002881479      0.003433551\n",
       "1-benzylimidazole                       0.000000000      0.854120978\n",
       "1,2-dichlorobenzene                     1.054256825     -2.109353146\n",
       "1,2,3,4-tetrahydroisoquinoline          0.354473922     -0.880219147\n",
       "1-monopalmitin                          1.584771542      0.000000000"
      ]
     },
     "metadata": {},
     "output_type": "display_data"
    }
   ],
   "source": [
    "PMI_matrix_best"
   ]
  },
  {
   "cell_type": "markdown",
   "metadata": {},
   "source": [
    "accuracy rank"
   ]
  },
  {
   "cell_type": "code",
   "execution_count": null,
   "metadata": {},
   "outputs": [],
   "source": []
  },
  {
   "cell_type": "code",
   "execution_count": null,
   "metadata": {},
   "outputs": [],
   "source": [
    "#this function takes a matrix of measures for a sample set, along side a validated columns, and measures the weighted accuracy of each assignment\n",
    "function(score.matrix, val.col, measures.cols){\n",
    "     matrix = score.matrix\n",
    "\n",
    "     \n",
    "}"
   ]
  },
  {
   "cell_type": "markdown",
   "metadata": {},
   "source": [
    "---\n",
    "STRACTH and LEARNING"
   ]
  },
  {
   "cell_type": "raw",
   "metadata": {
    "jupyter": {
     "source_hidden": true
    }
   },
   "source": [
    "---\n",
    "#### 0.0 Build input variables -  *masked because this would be a different step*"
   ]
  },
  {
   "cell_type": "raw",
   "metadata": {
    "jupyter": {
     "source_hidden": true
    }
   },
   "source": [
    "#Load libraries\n",
    "suppressMessages(library(tidyverse))\n",
    "library(cmapR)"
   ]
  },
  {
   "cell_type": "raw",
   "metadata": {
    "jupyter": {
     "source_hidden": true
    }
   },
   "source": [
    "we are using stress response system abrevations follows below. As of this version we have the following categories: "
   ]
  },
  {
   "cell_type": "raw",
   "metadata": {
    "jupyter": {
     "source_hidden": true
    }
   },
   "source": [
    "#set stress cats of interests\n",
    "SRPs <- c(\"DDR\", # dna damage response\n",
    "                \"UPR\", # unfolded protein response\n",
    "                \"HSR\", # heatshock or proteolytic response\n",
    "                \"HPX\", # hypoxic response\n",
    "                \"MTL\", # response to metals\n",
    "                \"OSR\"  # oxidative stress response\n",
    "               )\n",
    "\n",
    "#set key directory points\n",
    "phase1 <- '/share/projects/HTTr/HTTr_pipeline_dev/HumanWT_v1/Analysis/Bundy/cmap_explore/input/phase_1/'\n",
    "phase2 <- '/share/projects/HTTr/HTTr_pipeline_dev/HumanWT_v1/Analysis/Bundy/cmap_explore/input/phase_2/'\n",
    "\n",
    "#set phase GSE identifiers\n",
    "GSEp1=\"GSE92742\"\n",
    "GSEp2=\"GSE70138\"\n",
    "\n",
    "#build a list of the phases to iterate\n",
    "phases <- list(phase1, phase2)\n",
    "GSEs <- list(GSEp1, GSEp2)\n",
    "\n",
    "#build a list of all chemicals in LINCS\n",
    "#pull all chemical\n",
    "experimentaldb <- lapply(seq_along(phases), function(x) suppressMessages(suppressWarnings(read_tsv(file= paste0(phases[[x]],GSEs[[x]],'_Broad_LINCS_sig_info.txt')))) %>%\n",
    "                             select(pert_id, pert_iname, pert_type, cell_id, pert_idose, pert_itime) %>%\n",
    "                             filter(pert_type == \"trt_cp\") %>%\n",
    "                             select(pert_id, pert_iname)\n",
    "                         )\n",
    "#make a single df\n",
    "totalchems <- do.call(rbind, experimentaldb) %>% distinct()\n",
    "\n",
    "#filter for those that do not have a BRD- id inplace of chem name\n",
    "filterchems0 <- totalchems[!grepl(pattern = 'BRD-', x = totalchems$pert_iname, ignore.case = TRUE),] %>% \n",
    "     mutate(original.pert_iname = pert_iname, pert_iname = gsub(pattern = \"\\\\\\'\", replacement = \"\", x = pert_iname)) #clean up the miss annotated \" \\' \"\n",
    "\n",
    "filterchems = filterchems0 %>% distinct(pert_iname) %>%\n",
    "    left_join(totalchems, 'pert_iname') %>%\n",
    "    arrange(pert_iname)\n",
    "\n",
    "chems = filterchems$pert_iname %>% unique()\n",
    "\n",
    "\n",
    "\n",
    "#define seearch phrases\n",
    "searchchemicals = filterchems$pert_iname %>% unique() %>% sort() #chems\n",
    "searchterms = c(\"dna damage\",\n",
    "                \"unfolded protein response\",\n",
    "                \"er stress\",\n",
    "                \"heat shock\",\n",
    "                \"hypoxia\",\n",
    "                \"metal stress\",\n",
    "                \"chelator\",\n",
    "                \"oxidative stress\",\n",
    "                \"antioxidant\"\n",
    "               )"
   ]
  },
  {
   "cell_type": "raw",
   "metadata": {
    "jupyter": {
     "source_hidden": true
    }
   },
   "source": [
    "write.csv(chems, \"chemical-list-LINCS-2021.07.23.csv\")"
   ]
  },
  {
   "cell_type": "raw",
   "metadata": {
    "jupyter": {
     "source_hidden": true
    }
   },
   "source": [
    "### 1.1 libraries"
   ]
  },
  {
   "cell_type": "raw",
   "metadata": {
    "jupyter": {
     "source_hidden": true
    }
   },
   "source": [
    "library(tidyverse)\n",
    "library(easyPubMed)\n",
    "library(kableExtra)"
   ]
  },
  {
   "cell_type": "raw",
   "metadata": {
    "jupyter": {
     "source_hidden": true
    }
   },
   "source": [
    "### 1.2 read in data\n",
    "\n",
    "Start by reading in the chemical list of interest"
   ]
  },
  {
   "cell_type": "raw",
   "metadata": {
    "jupyter": {
     "source_hidden": true
    }
   },
   "source": [
    "#read chemical list\n",
    "chems = read_csv(file = \"chemical-list-LINCS-2021.07.23.csv\")"
   ]
  },
  {
   "cell_type": "raw",
   "metadata": {
    "jupyter": {
     "source_hidden": true
    }
   },
   "source": [
    "chems %>% head()"
   ]
  },
  {
   "cell_type": "raw",
   "metadata": {
    "jupyter": {
     "source_hidden": true
    }
   },
   "source": [
    "chems.short = chems$chemicals[1:10]"
   ]
  },
  {
   "cell_type": "raw",
   "metadata": {
    "jupyter": {
     "source_hidden": true
    }
   },
   "source": [
    "next read in the query map"
   ]
  },
  {
   "cell_type": "raw",
   "metadata": {
    "jupyter": {
     "source_hidden": true
    }
   },
   "source": [
    "#read in query map\n",
    "q.map = read_csv(\"query.map.csv\")"
   ]
  },
  {
   "cell_type": "raw",
   "metadata": {
    "jupyter": {
     "source_hidden": true
    }
   },
   "source": [
    "q.map"
   ]
  },
  {
   "cell_type": "raw",
   "metadata": {
    "jupyter": {
     "source_hidden": true
    }
   },
   "source": [
    "---\n",
    "## 2. Perpare for data for query"
   ]
  },
  {
   "cell_type": "raw",
   "metadata": {
    "jupyter": {
     "source_hidden": true
    }
   },
   "source": [
    "#build partial search vectors\n",
    "chems.search = paste0('\"', chems.short, '\" AND')\n",
    "searchterms.search = q.map$phrase"
   ]
  },
  {
   "cell_type": "raw",
   "metadata": {
    "jupyter": {
     "source_hidden": true
    }
   },
   "source": [
    "#controlable and bindable search grid with directions\n",
    "search.grid = expand.grid(chems.search, searchterms.search, stringsAsFactors = FALSE) %>%\n",
    "    setNames(c('chemical', 'phrase')) %>% \n",
    "    left_join(q.map, by = \"phrase\") %>%\n",
    "    mutate(query = paste(chemical, phrase)) %>%\n",
    "    select(SRP, direction, query)\n",
    "\n",
    "#acutal query list\n",
    "search.query = search.grid$query"
   ]
  },
  {
   "cell_type": "raw",
   "metadata": {
    "jupyter": {
     "source_hidden": true
    }
   },
   "source": [
    "# now pass this to the new version of ezPubMed and get XML dataframe back with PID, Abstract, then summate it and get search result as an second query ... this lets you parse abstracts imediately as a single data object!!!!!"
   ]
  },
  {
   "cell_type": "raw",
   "metadata": {
    "jupyter": {
     "source_hidden": true
    }
   },
   "source": [
    "so you will have to reduce the # of rows etc to re-extract search information but you can save the object once!!!"
   ]
  },
  {
   "cell_type": "raw",
   "metadata": {
    "jupyter": {
     "source_hidden": true
    }
   },
   "source": [
    "# Get a query result object"
   ]
  },
  {
   "cell_type": "raw",
   "metadata": {
    "jupyter": {
     "source_hidden": true
    },
    "tags": []
   },
   "source": [
    "lapply(seq_along(search.quick), function(x) get_pubmed_ids(search.quick[[1]], api_key = 'b3accc43abfb376d63b0c2d2f7d8f984de09') %>%\n",
    "       fetch_pubmed_data() %>%\n",
    "       articles_to_list() %>%\n",
    "       lapply(., article_to_df, max_chars = -1, getAuthors = FALSE) %>%\n",
    "       do.call(rbind, .)\n",
    "      )"
   ]
  }
 ],
 "metadata": {
  "kernelspec": {
   "display_name": "R",
   "language": "R",
   "name": "ir"
  },
  "language_info": {
   "codemirror_mode": "r",
   "file_extension": ".r",
   "mimetype": "text/x-r-source",
   "name": "R",
   "pygments_lexer": "r",
   "version": "4.1.1"
  }
 },
 "nbformat": 4,
 "nbformat_minor": 4
}
